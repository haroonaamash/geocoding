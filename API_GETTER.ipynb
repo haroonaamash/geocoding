{
 "cells": [
  {
   "cell_type": "code",
   "execution_count": 26,
   "id": "continued-dubai",
   "metadata": {},
   "outputs": [],
   "source": [
    "import requests\n",
    "from typing import Dict\n",
    "import json\n",
    "import pandas as pd"
   ]
  },
  {
   "cell_type": "code",
   "execution_count": 16,
   "id": "nearby-finish",
   "metadata": {},
   "outputs": [],
   "source": [
    "# for address in list_of_address:\n",
    "#     geocoded_response = geocode(address)\n",
    "#     save_to_file(geocode_response)\n",
    "    \n",
    "# save_to_file(key: str, response: Dict) -> None:\n",
    "#     output = {key: response}\n",
    "#     with file(FILE_NAME, 'w+') as f:\n",
    "#         f.write(output)\n",
    "    "
   ]
  },
  {
   "cell_type": "code",
   "execution_count": 29,
   "id": "alpine-demographic",
   "metadata": {},
   "outputs": [],
   "source": [
    "def save_to_file(file_name: str, key: any, response: Dict) -> None:\n",
    "    output = response\n",
    "    output['KEY'] = key\n",
    "    with open(file_name, 'w+') as f:\n",
    "        f.write(json.dumps(output))\n"
   ]
  },
  {
   "cell_type": "code",
   "execution_count": 57,
   "id": "helpful-commissioner",
   "metadata": {},
   "outputs": [],
   "source": [
    "r1 = {\"a\":11, \"b\": 444, \"nestTest\": {\"aa\":1}}\n",
    "r2 = {\"a\":22, \"b\":333, \"nestTest\": {\"aa\":2}}\n",
    "\n",
    "save_to_file(file_name=\"r1.json\", key=\"r1\", response=r1)\n",
    "save_to_file(file_name=\"r2.json\", key=\"r2\", response=r2)"
   ]
  },
  {
   "cell_type": "code",
   "execution_count": 58,
   "id": "realistic-intention",
   "metadata": {},
   "outputs": [],
   "source": [
    "import os"
   ]
  },
  {
   "cell_type": "code",
   "execution_count": 59,
   "id": "strange-planet",
   "metadata": {},
   "outputs": [],
   "source": [
    "json_files =[]\n",
    "for f in os.listdir('.'):\n",
    "    if '.json' in f:\n",
    "        json_files.append(f)"
   ]
  },
  {
   "cell_type": "code",
   "execution_count": 60,
   "id": "suited-monster",
   "metadata": {},
   "outputs": [
    {
     "data": {
      "text/plain": [
       "['r1.json', 'r2.json']"
      ]
     },
     "execution_count": 60,
     "metadata": {},
     "output_type": "execute_result"
    }
   ],
   "source": [
    "json_files"
   ]
  },
  {
   "cell_type": "code",
   "execution_count": 67,
   "id": "smaller-station",
   "metadata": {},
   "outputs": [
    {
     "data": {
      "text/html": [
       "<div>\n",
       "<style scoped>\n",
       "    .dataframe tbody tr th:only-of-type {\n",
       "        vertical-align: middle;\n",
       "    }\n",
       "\n",
       "    .dataframe tbody tr th {\n",
       "        vertical-align: top;\n",
       "    }\n",
       "\n",
       "    .dataframe thead th {\n",
       "        text-align: right;\n",
       "    }\n",
       "</style>\n",
       "<table border=\"1\" class=\"dataframe\">\n",
       "  <thead>\n",
       "    <tr style=\"text-align: right;\">\n",
       "      <th></th>\n",
       "      <th>a</th>\n",
       "      <th>b</th>\n",
       "      <th>nestTest</th>\n",
       "      <th>KEY</th>\n",
       "    </tr>\n",
       "  </thead>\n",
       "  <tbody>\n",
       "    <tr>\n",
       "      <th>0</th>\n",
       "      <td>11</td>\n",
       "      <td>444</td>\n",
       "      <td>{'aa': 1}</td>\n",
       "      <td>r1</td>\n",
       "    </tr>\n",
       "  </tbody>\n",
       "</table>\n",
       "</div>"
      ],
      "text/plain": [
       "    a    b   nestTest KEY\n",
       "0  11  444  {'aa': 1}  r1"
      ]
     },
     "execution_count": 67,
     "metadata": {},
     "output_type": "execute_result"
    }
   ],
   "source": [
    "pd.DataFrame.from_dict([r1])"
   ]
  },
  {
   "cell_type": "code",
   "execution_count": 68,
   "id": "extra-camping",
   "metadata": {},
   "outputs": [],
   "source": [
    "list_of_dfs = []\n",
    "for f in json_files:\n",
    "    with open(f) as response_file:\n",
    "        d = response_file.read()\n",
    "        data_dict=json.loads(d)\n",
    "    list_of_dfs.append(pd.DataFrame.from_dict([data_dict]))"
   ]
  },
  {
   "cell_type": "code",
   "execution_count": 69,
   "id": "difficult-malaysia",
   "metadata": {},
   "outputs": [],
   "source": [
    "final_df = pd.concat(list_of_dfs)"
   ]
  },
  {
   "cell_type": "code",
   "execution_count": 70,
   "id": "informal-coach",
   "metadata": {},
   "outputs": [
    {
     "data": {
      "text/html": [
       "<div>\n",
       "<style scoped>\n",
       "    .dataframe tbody tr th:only-of-type {\n",
       "        vertical-align: middle;\n",
       "    }\n",
       "\n",
       "    .dataframe tbody tr th {\n",
       "        vertical-align: top;\n",
       "    }\n",
       "\n",
       "    .dataframe thead th {\n",
       "        text-align: right;\n",
       "    }\n",
       "</style>\n",
       "<table border=\"1\" class=\"dataframe\">\n",
       "  <thead>\n",
       "    <tr style=\"text-align: right;\">\n",
       "      <th></th>\n",
       "      <th>a</th>\n",
       "      <th>b</th>\n",
       "      <th>nestTest</th>\n",
       "      <th>KEY</th>\n",
       "    </tr>\n",
       "  </thead>\n",
       "  <tbody>\n",
       "    <tr>\n",
       "      <th>0</th>\n",
       "      <td>11</td>\n",
       "      <td>444</td>\n",
       "      <td>{'aa': 1}</td>\n",
       "      <td>r1</td>\n",
       "    </tr>\n",
       "    <tr>\n",
       "      <th>0</th>\n",
       "      <td>22</td>\n",
       "      <td>333</td>\n",
       "      <td>{'aa': 2}</td>\n",
       "      <td>r2</td>\n",
       "    </tr>\n",
       "  </tbody>\n",
       "</table>\n",
       "</div>"
      ],
      "text/plain": [
       "    a    b   nestTest KEY\n",
       "0  11  444  {'aa': 1}  r1\n",
       "0  22  333  {'aa': 2}  r2"
      ]
     },
     "execution_count": 70,
     "metadata": {},
     "output_type": "execute_result"
    }
   ],
   "source": [
    "final_df\n"
   ]
  },
  {
   "cell_type": "code",
   "execution_count": null,
   "id": "confident-stadium",
   "metadata": {},
   "outputs": [],
   "source": [
    "# use this function\n",
    "# response.raise_for_status()"
   ]
  }
 ],
 "metadata": {
  "kernelspec": {
   "display_name": "Python 3",
   "language": "python",
   "name": "python3"
  },
  "language_info": {
   "codemirror_mode": {
    "name": "ipython",
    "version": 3
   },
   "file_extension": ".py",
   "mimetype": "text/x-python",
   "name": "python",
   "nbconvert_exporter": "python",
   "pygments_lexer": "ipython3",
   "version": "3.7.9"
  }
 },
 "nbformat": 4,
 "nbformat_minor": 5
}
