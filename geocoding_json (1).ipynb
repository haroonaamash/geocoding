{
 "cells": [
  {
   "cell_type": "code",
   "execution_count": 439,
   "metadata": {},
   "outputs": [],
   "source": [
    "import requests\n",
    "import json\n",
    "import pandas as pd\n",
    "import os\n",
    "import time \n",
    "from IPython.display import clear_output \n",
    "from operator import itemgetter\n",
    "import numpy as np\n",
    "from pandas.io.json import json_normalize\n",
    "\n",
    "#set wd\n",
    "os.chdir(\"//rca-file-server/RCA/Data Science/Australia Feeds/Company Matching Geocodes\")\n",
    "\n",
    "\n",
    "\n",
    "df = pd.read_excel(\"company_address2.xlsx\")  \n",
    "df1 = pd.read_excel(\"this.xlsx\")"
   ]
  },
  {
   "cell_type": "code",
   "execution_count": 440,
   "metadata": {},
   "outputs": [
    {
     "data": {
      "text/plain": [
       "(12464, 2)"
      ]
     },
     "execution_count": 440,
     "metadata": {},
     "output_type": "execute_result"
    }
   ],
   "source": [
    "df.shape\n",
    "print(type(df['response'][1]))"
   ]
  },
  {
   "cell_type": "code",
   "execution_count": 442,
   "metadata": {},
   "outputs": [],
   "source": [
    "df['response'] = df['response'].str.replace('True','true')\n",
    "df['response'] = df['response'].str.replace('False','false')\n",
    "df['response'] = df['response'].str.replace('None','\"none\"')\n",
    "df['response'] = df['response'].str.replace(\"'\", '\"')\n",
    "df['response'] = df['response'].replace(\"\\\\\", r\"\\\\\")\n"
   ]
  },
  {
   "cell_type": "code",
   "execution_count": 443,
   "metadata": {},
   "outputs": [
    {
     "data": {
      "text/plain": [
       "dict"
      ]
     },
     "execution_count": 443,
     "metadata": {},
     "output_type": "execute_result"
    }
   ],
   "source": [
    "type(json.loads(df['response'][1]))"
   ]
  },
  {
   "cell_type": "code",
   "execution_count": 447,
   "metadata": {},
   "outputs": [
    {
     "ename": "TypeError",
     "evalue": "'type' object is not iterable",
     "output_type": "error",
     "traceback": [
      "\u001b[1;31m---------------------------------------------------------------------------\u001b[0m",
      "\u001b[1;31mTypeError\u001b[0m                                 Traceback (most recent call last)",
      "\u001b[1;32m<ipython-input-447-8e09e2e193ac>\u001b[0m in \u001b[0;36m<module>\u001b[1;34m\u001b[0m\n\u001b[0;32m      3\u001b[0m \u001b[1;33m\u001b[0m\u001b[0m\n\u001b[0;32m      4\u001b[0m \u001b[1;31m# appending rows\u001b[0m\u001b[1;33m\u001b[0m\u001b[1;33m\u001b[0m\u001b[1;33m\u001b[0m\u001b[0m\n\u001b[1;32m----> 5\u001b[1;33m \u001b[1;32mfor\u001b[0m \u001b[0mdata\u001b[0m \u001b[1;32min\u001b[0m \u001b[0mlist\u001b[0m\u001b[1;33m:\u001b[0m\u001b[1;33m\u001b[0m\u001b[1;33m\u001b[0m\u001b[0m\n\u001b[0m\u001b[0;32m      6\u001b[0m     \u001b[0mdata_row\u001b[0m \u001b[1;33m=\u001b[0m \u001b[0mdf\u001b[0m\u001b[1;33m[\u001b[0m\u001b[1;34m'response'\u001b[0m\u001b[1;33m]\u001b[0m\u001b[1;33m\u001b[0m\u001b[1;33m\u001b[0m\u001b[0m\n\u001b[0;32m      7\u001b[0m \u001b[1;33m\u001b[0m\u001b[0m\n",
      "\u001b[1;31mTypeError\u001b[0m: 'type' object is not iterable"
     ]
    }
   ],
   "source": [
    "# rows list initialization \n",
    "rows = [] \n",
    "  \n",
    "# appending rows \n",
    "for data in list: \n",
    "    data_row = df['response']  \n",
    "      \n",
    "    for row in data_row: \n",
    "        row['Name']= json.loads(data_row) \n",
    "        rows.append(row) \n",
    "  \n",
    "# using data frame \n",
    "df = pd.DataFrame(rows) \n",
    "  \n",
    "# print(df) "
   ]
  },
  {
   "cell_type": "code",
   "execution_count": 415,
   "metadata": {},
   "outputs": [],
   "source": [
    "final = pd.DataFrame.from_dict(pd.json_normalize(df1['response']) ,orient='columns')\n"
   ]
  },
  {
   "cell_type": "code",
   "execution_count": 448,
   "metadata": {},
   "outputs": [
    {
     "data": {
      "text/plain": [
       "{'address_components': [{'long_name': 'Bundall Road & Slatyer Avenue',\n",
       "   'short_name': 'Bundall Rd & Slatyer Ave',\n",
       "   'types': ['intersection']},\n",
       "  {'long_name': 'Bundall',\n",
       "   'short_name': 'Bundall',\n",
       "   'types': ['locality', 'political']},\n",
       "  {'long_name': 'City of Gold Coast',\n",
       "   'short_name': 'Gold Coast',\n",
       "   'types': ['administrative_area_level_2', 'political']},\n",
       "  {'long_name': 'Queensland',\n",
       "   'short_name': 'QLD',\n",
       "   'types': ['administrative_area_level_1', 'political']},\n",
       "  {'long_name': 'Australia',\n",
       "   'short_name': 'AU',\n",
       "   'types': ['country', 'political']},\n",
       "  {'long_name': '4217', 'short_name': '4217', 'types': ['postal_code']}],\n",
       " 'formatted_address': 'Bundall Rd & Slatyer Ave, Bundall QLD 4217, Australia',\n",
       " 'geometry': {'location': {'lat': -27.9976302, 'lng': 153.4141172},\n",
       "  'location_type': 'GEOMETRIC_CENTER',\n",
       "  'viewport': {'northeast': {'lat': -27.9962812197085,\n",
       "    'lng': 153.4154661802915},\n",
       "   'southwest': {'lat': -27.9989791802915, 'lng': 153.4127682197085}}},\n",
       " 'partial_match': True,\n",
       " 'place_id': 'EjVCdW5kYWxsIFJkICYgU2xhdHllciBBdmUsIEJ1bmRhbGwgUUxEIDQyMTcsIEF1c3RyYWxpYSJmImQKFAoSCeXEHjVABZFrEWe7h22UE8tZEhQKEgnlxB41QAWRaxFnu4dtlBPLWRoUChIJL6kK0T0FkWsR6nklFR-GhrUaFAoSCSPmlM5HBZFrEQEWnceuQwCyIgoNkuZP7xX0InFb',\n",
       " 'types': ['intersection'],\n",
       " 'rca_extended_properties': {'geocode': {'quality_id': 5,\n",
       "   'quality_tx': 'Postal Code'},\n",
       "  'distanceInMeters': 'none',\n",
       "  'displayCity_tx': 'Gold Coast',\n",
       "  'displayCityNameOrigin_id': 8,\n",
       "  'searchParcels': False},\n",
       " 'reverse_geocode': {'adminLevel2_id': 12489,\n",
       "  'adminLevel2_tx': 'Gold Coast (C)',\n",
       "  'adminLevel2Type_tx': 'Local_Gov_Area',\n",
       "  'adminLevel2_display_city_name_fg': False,\n",
       "  'adminLevel1_id': 1504,\n",
       "  'adminLevel1_tx': 'Queensland',\n",
       "  'adminLevel1Type_tx': 'States',\n",
       "  'adminLevel1_display_city_name_fg': False,\n",
       "  'adminLevel0_id': 13,\n",
       "  'adminLevel0_tx': 'Australia',\n",
       "  'adminLevel0_display_city_name_fg': False,\n",
       "  'postalCode_id': 39319,\n",
       "  'postalCode_tx': '4217',\n",
       "  'city_id': 166830,\n",
       "  'city_tx': 'Gold Coast',\n",
       "  'city_display_city_name_fg': True,\n",
       "  'subMarket_id': 1460,\n",
       "  'subMarket_tx': 'Gold Coast',\n",
       "  'market_id': 611,\n",
       "  'market_tx': 'Gold Coast',\n",
       "  'metro_id': 94,\n",
       "  'metro_tx': 'Gold Coast',\n",
       "  'region_id': 288,\n",
       "  'region_tx': 'Queensland',\n",
       "  'subTheatre_id': 2,\n",
       "  'subTheatre_tx': 'Australia',\n",
       "  'theatre_id': 2,\n",
       "  'theatre_tx': 'Australia - NZ',\n",
       "  'continent_id': 4,\n",
       "  'continent_tx': 'Pacific',\n",
       "  'zone_id': 2,\n",
       "  'zone_tx': 'AsiaPac',\n",
       "  'cbd_fg': False}}"
      ]
     },
     "execution_count": 448,
     "metadata": {},
     "output_type": "execute_result"
    }
   ],
   "source": [
    "json.loads(df['response'][0])"
   ]
  },
  {
   "cell_type": "code",
   "execution_count": 449,
   "metadata": {},
   "outputs": [
    {
     "data": {
      "text/plain": [
       "'{\"address_components\": [{\"long_name\": \"Bundall Road & Slatyer Avenue\", \"short_name\": \"Bundall Rd & Slatyer Ave\", \"types\": [\"intersection\"]}, {\"long_name\": \"Bundall\", \"short_name\": \"Bundall\", \"types\": [\"locality\", \"political\"]}, {\"long_name\": \"City of Gold Coast\", \"short_name\": \"Gold Coast\", \"types\": [\"administrative_area_level_2\", \"political\"]}, {\"long_name\": \"Queensland\", \"short_name\": \"QLD\", \"types\": [\"administrative_area_level_1\", \"political\"]}, {\"long_name\": \"Australia\", \"short_name\": \"AU\", \"types\": [\"country\", \"political\"]}, {\"long_name\": \"4217\", \"short_name\": \"4217\", \"types\": [\"postal_code\"]}], \"formatted_address\": \"Bundall Rd & Slatyer Ave, Bundall QLD 4217, Australia\", \"geometry\": {\"location\": {\"lat\": -27.9976302, \"lng\": 153.4141172}, \"location_type\": \"GEOMETRIC_CENTER\", \"viewport\": {\"northeast\": {\"lat\": -27.9962812197085, \"lng\": 153.4154661802915}, \"southwest\": {\"lat\": -27.9989791802915, \"lng\": 153.4127682197085}}}, \"partial_match\": true, \"place_id\": \"EjVCdW5kYWxsIFJkICYgU2xhdHllciBBdmUsIEJ1bmRhbGwgUUxEIDQyMTcsIEF1c3RyYWxpYSJmImQKFAoSCeXEHjVABZFrEWe7h22UE8tZEhQKEgnlxB41QAWRaxFnu4dtlBPLWRoUChIJL6kK0T0FkWsR6nklFR-GhrUaFAoSCSPmlM5HBZFrEQEWnceuQwCyIgoNkuZP7xX0InFb\", \"types\": [\"intersection\"], \"rca_extended_properties\": {\"geocode\": {\"quality_id\": 5, \"quality_tx\": \"Postal Code\"}, \"distanceInMeters\": \"none\", \"displayCity_tx\": \"Gold Coast\", \"displayCityNameOrigin_id\": 8, \"searchParcels\": false}, \"reverse_geocode\": {\"adminLevel2_id\": 12489, \"adminLevel2_tx\": \"Gold Coast (C)\", \"adminLevel2Type_tx\": \"Local_Gov_Area\", \"adminLevel2_display_city_name_fg\": false, \"adminLevel1_id\": 1504, \"adminLevel1_tx\": \"Queensland\", \"adminLevel1Type_tx\": \"States\", \"adminLevel1_display_city_name_fg\": false, \"adminLevel0_id\": 13, \"adminLevel0_tx\": \"Australia\", \"adminLevel0_display_city_name_fg\": false, \"postalCode_id\": 39319, \"postalCode_tx\": \"4217\", \"city_id\": 166830, \"city_tx\": \"Gold Coast\", \"city_display_city_name_fg\": true, \"subMarket_id\": 1460, \"subMarket_tx\": \"Gold Coast\", \"market_id\": 611, \"market_tx\": \"Gold Coast\", \"metro_id\": 94, \"metro_tx\": \"Gold Coast\", \"region_id\": 288, \"region_tx\": \"Queensland\", \"subTheatre_id\": 2, \"subTheatre_tx\": \"Australia\", \"theatre_id\": 2, \"theatre_tx\": \"Australia - NZ\", \"continent_id\": 4, \"continent_tx\": \"Pacific\", \"zone_id\": 2, \"zone_tx\": \"AsiaPac\", \"cbd_fg\": false}}'"
      ]
     },
     "execution_count": 449,
     "metadata": {},
     "output_type": "execute_result"
    }
   ],
   "source": [
    "df['response'][0]"
   ]
  },
  {
   "cell_type": "code",
   "execution_count": null,
   "metadata": {},
   "outputs": [],
   "source": []
  }
 ],
 "metadata": {
  "kernelspec": {
   "display_name": "Python 3",
   "language": "python",
   "name": "python3"
  },
  "language_info": {
   "codemirror_mode": {
    "name": "ipython",
    "version": 3
   },
   "file_extension": ".py",
   "mimetype": "text/x-python",
   "name": "python",
   "nbconvert_exporter": "python",
   "pygments_lexer": "ipython3",
   "version": "3.7.1"
  }
 },
 "nbformat": 4,
 "nbformat_minor": 2
}
