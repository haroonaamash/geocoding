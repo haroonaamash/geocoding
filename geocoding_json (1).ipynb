{
 "cells": [
  {
   "cell_type": "code",
   "execution_count": 1,
   "metadata": {},
   "outputs": [
    {
     "name": "stderr",
     "output_type": "stream",
     "text": [
      "/Users/randyclinton/.pyenv/versions/3.7.9/envs/ds/lib/python3.7/site-packages/ipykernel_launcher.py:16: FutureWarning: Your version of xlrd is 1.2.0. In xlrd >= 2.0, only the xls format is supported. As a result, the openpyxl engine will be used if it is installed and the engine argument is not specified. Install openpyxl instead.\n",
      "  app.launch_new_instance()\n"
     ]
    }
   ],
   "source": [
    "import requests\n",
    "import json\n",
    "import pandas as pd\n",
    "import os\n",
    "import time \n",
    "from IPython.display import clear_output \n",
    "from operator import itemgetter\n",
    "import numpy as np\n",
    "from pandas.io.json import json_normalize\n",
    "\n",
    "#set wd\n",
    "# os.chdir(\"//rca-file-server/RCA/Data Science/Australia Feeds/Company Matching Geocodes\")\n",
    "\n",
    "\n",
    "\n",
    "df = pd.read_excel(\"company_address2.xlsx\")  \n",
    "# df1 = pd.read_excel(\"this.xlsx\")"
   ]
  },
  {
   "cell_type": "code",
   "execution_count": 2,
   "metadata": {},
   "outputs": [],
   "source": [
    "# !pip install xlrd==1.2"
   ]
  },
  {
   "cell_type": "code",
   "execution_count": 3,
   "metadata": {},
   "outputs": [
    {
     "name": "stdout",
     "output_type": "stream",
     "text": [
      "<class 'str'>\n"
     ]
    }
   ],
   "source": [
    "df.shape\n",
    "print(type(df['response'][1]))"
   ]
  },
  {
   "cell_type": "code",
   "execution_count": 4,
   "metadata": {},
   "outputs": [
    {
     "data": {
      "text/html": [
       "<div>\n",
       "<style scoped>\n",
       "    .dataframe tbody tr th:only-of-type {\n",
       "        vertical-align: middle;\n",
       "    }\n",
       "\n",
       "    .dataframe tbody tr th {\n",
       "        vertical-align: top;\n",
       "    }\n",
       "\n",
       "    .dataframe thead th {\n",
       "        text-align: right;\n",
       "    }\n",
       "</style>\n",
       "<table border=\"1\" class=\"dataframe\">\n",
       "  <thead>\n",
       "    <tr style=\"text-align: right;\">\n",
       "      <th></th>\n",
       "      <th>Concatenated Address</th>\n",
       "      <th>response</th>\n",
       "    </tr>\n",
       "  </thead>\n",
       "  <tbody>\n",
       "    <tr>\n",
       "      <th>0</th>\n",
       "      <td>BUNDALL ROAD CNR SLATYER AVE 11L, BUNDALL ,Au...</td>\n",
       "      <td>{'address_components': [{'long_name': 'Bundall...</td>\n",
       "    </tr>\n",
       "    <tr>\n",
       "      <th>1</th>\n",
       "      <td>CHARLES ST 22017 06, ST MARYS ,Australia</td>\n",
       "      <td>{'address_components': [{'long_name': 'St. Mar...</td>\n",
       "    </tr>\n",
       "    <tr>\n",
       "      <th>2</th>\n",
       "      <td>HAMILTON AVE 22017 08, SURFERS PARADISE ,Austr...</td>\n",
       "      <td>{'address_components': [{'long_name': 'Hamilto...</td>\n",
       "    </tr>\n",
       "    <tr>\n",
       "      <th>3</th>\n",
       "      <td>LOGAN RD 72016 19, MOUNT GRAVATT ,Australia</td>\n",
       "      <td>{'address_components': [{'long_name': 'Logan R...</td>\n",
       "    </tr>\n",
       "    <tr>\n",
       "      <th>4</th>\n",
       "      <td>RAILWAY ST 32016 08, WENTWORTHVILLE ,Australia</td>\n",
       "      <td>{'address_components': [{'long_name': 'Railway...</td>\n",
       "    </tr>\n",
       "  </tbody>\n",
       "</table>\n",
       "</div>"
      ],
      "text/plain": [
       "                                Concatenated Address  \\\n",
       "0   BUNDALL ROAD CNR SLATYER AVE 11L, BUNDALL ,Au...   \n",
       "1          CHARLES ST 22017 06, ST MARYS ,Australia    \n",
       "2  HAMILTON AVE 22017 08, SURFERS PARADISE ,Austr...   \n",
       "3       LOGAN RD 72016 19, MOUNT GRAVATT ,Australia    \n",
       "4    RAILWAY ST 32016 08, WENTWORTHVILLE ,Australia    \n",
       "\n",
       "                                            response  \n",
       "0  {'address_components': [{'long_name': 'Bundall...  \n",
       "1  {'address_components': [{'long_name': 'St. Mar...  \n",
       "2  {'address_components': [{'long_name': 'Hamilto...  \n",
       "3  {'address_components': [{'long_name': 'Logan R...  \n",
       "4  {'address_components': [{'long_name': 'Railway...  "
      ]
     },
     "execution_count": 4,
     "metadata": {},
     "output_type": "execute_result"
    }
   ],
   "source": [
    "df.head()"
   ]
  },
  {
   "cell_type": "code",
   "execution_count": 5,
   "metadata": {},
   "outputs": [],
   "source": [
    "from pprint import pprint"
   ]
  },
  {
   "cell_type": "code",
   "execution_count": 6,
   "metadata": {},
   "outputs": [],
   "source": [
    "# json.loads(df.response[0])"
   ]
  },
  {
   "cell_type": "code",
   "execution_count": 7,
   "metadata": {},
   "outputs": [],
   "source": [
    "df['response'] = df['response'].str.replace('True','true')\n",
    "df['response'] = df['response'].str.replace('False','false')\n",
    "df['response'] = df['response'].str.replace('None','\"none\"')\n",
    "\n",
    "df['response'] = df['response'].replace(\"\\\\\", r\"\\\\\")\n"
   ]
  },
  {
   "cell_type": "code",
   "execution_count": 8,
   "metadata": {},
   "outputs": [
    {
     "ename": "JSONDecodeError",
     "evalue": "Expecting property name enclosed in double quotes: line 1 column 2 (char 1)",
     "output_type": "error",
     "traceback": [
      "\u001b[0;31m---------------------------------------------------------------------------\u001b[0m",
      "\u001b[0;31mJSONDecodeError\u001b[0m                           Traceback (most recent call last)",
      "\u001b[0;32m<ipython-input-8-df95921af893>\u001b[0m in \u001b[0;36m<module>\u001b[0;34m\u001b[0m\n\u001b[0;32m----> 1\u001b[0;31m \u001b[0mtype\u001b[0m\u001b[0;34m(\u001b[0m\u001b[0mjson\u001b[0m\u001b[0;34m.\u001b[0m\u001b[0mloads\u001b[0m\u001b[0;34m(\u001b[0m\u001b[0mdf\u001b[0m\u001b[0;34m[\u001b[0m\u001b[0;34m'response'\u001b[0m\u001b[0;34m]\u001b[0m\u001b[0;34m[\u001b[0m\u001b[0;36m1\u001b[0m\u001b[0;34m]\u001b[0m\u001b[0;34m)\u001b[0m\u001b[0;34m)\u001b[0m\u001b[0;34m\u001b[0m\u001b[0;34m\u001b[0m\u001b[0m\n\u001b[0m",
      "\u001b[0;32m~/.pyenv/versions/3.7.9/lib/python3.7/json/__init__.py\u001b[0m in \u001b[0;36mloads\u001b[0;34m(s, encoding, cls, object_hook, parse_float, parse_int, parse_constant, object_pairs_hook, **kw)\u001b[0m\n\u001b[1;32m    346\u001b[0m             \u001b[0mparse_int\u001b[0m \u001b[0;32mis\u001b[0m \u001b[0;32mNone\u001b[0m \u001b[0;32mand\u001b[0m \u001b[0mparse_float\u001b[0m \u001b[0;32mis\u001b[0m \u001b[0;32mNone\u001b[0m \u001b[0;32mand\u001b[0m\u001b[0;34m\u001b[0m\u001b[0;34m\u001b[0m\u001b[0m\n\u001b[1;32m    347\u001b[0m             parse_constant is None and object_pairs_hook is None and not kw):\n\u001b[0;32m--> 348\u001b[0;31m         \u001b[0;32mreturn\u001b[0m \u001b[0m_default_decoder\u001b[0m\u001b[0;34m.\u001b[0m\u001b[0mdecode\u001b[0m\u001b[0;34m(\u001b[0m\u001b[0ms\u001b[0m\u001b[0;34m)\u001b[0m\u001b[0;34m\u001b[0m\u001b[0;34m\u001b[0m\u001b[0m\n\u001b[0m\u001b[1;32m    349\u001b[0m     \u001b[0;32mif\u001b[0m \u001b[0mcls\u001b[0m \u001b[0;32mis\u001b[0m \u001b[0;32mNone\u001b[0m\u001b[0;34m:\u001b[0m\u001b[0;34m\u001b[0m\u001b[0;34m\u001b[0m\u001b[0m\n\u001b[1;32m    350\u001b[0m         \u001b[0mcls\u001b[0m \u001b[0;34m=\u001b[0m \u001b[0mJSONDecoder\u001b[0m\u001b[0;34m\u001b[0m\u001b[0;34m\u001b[0m\u001b[0m\n",
      "\u001b[0;32m~/.pyenv/versions/3.7.9/lib/python3.7/json/decoder.py\u001b[0m in \u001b[0;36mdecode\u001b[0;34m(self, s, _w)\u001b[0m\n\u001b[1;32m    335\u001b[0m \u001b[0;34m\u001b[0m\u001b[0m\n\u001b[1;32m    336\u001b[0m         \"\"\"\n\u001b[0;32m--> 337\u001b[0;31m         \u001b[0mobj\u001b[0m\u001b[0;34m,\u001b[0m \u001b[0mend\u001b[0m \u001b[0;34m=\u001b[0m \u001b[0mself\u001b[0m\u001b[0;34m.\u001b[0m\u001b[0mraw_decode\u001b[0m\u001b[0;34m(\u001b[0m\u001b[0ms\u001b[0m\u001b[0;34m,\u001b[0m \u001b[0midx\u001b[0m\u001b[0;34m=\u001b[0m\u001b[0m_w\u001b[0m\u001b[0;34m(\u001b[0m\u001b[0ms\u001b[0m\u001b[0;34m,\u001b[0m \u001b[0;36m0\u001b[0m\u001b[0;34m)\u001b[0m\u001b[0;34m.\u001b[0m\u001b[0mend\u001b[0m\u001b[0;34m(\u001b[0m\u001b[0;34m)\u001b[0m\u001b[0;34m)\u001b[0m\u001b[0;34m\u001b[0m\u001b[0;34m\u001b[0m\u001b[0m\n\u001b[0m\u001b[1;32m    338\u001b[0m         \u001b[0mend\u001b[0m \u001b[0;34m=\u001b[0m \u001b[0m_w\u001b[0m\u001b[0;34m(\u001b[0m\u001b[0ms\u001b[0m\u001b[0;34m,\u001b[0m \u001b[0mend\u001b[0m\u001b[0;34m)\u001b[0m\u001b[0;34m.\u001b[0m\u001b[0mend\u001b[0m\u001b[0;34m(\u001b[0m\u001b[0;34m)\u001b[0m\u001b[0;34m\u001b[0m\u001b[0;34m\u001b[0m\u001b[0m\n\u001b[1;32m    339\u001b[0m         \u001b[0;32mif\u001b[0m \u001b[0mend\u001b[0m \u001b[0;34m!=\u001b[0m \u001b[0mlen\u001b[0m\u001b[0;34m(\u001b[0m\u001b[0ms\u001b[0m\u001b[0;34m)\u001b[0m\u001b[0;34m:\u001b[0m\u001b[0;34m\u001b[0m\u001b[0;34m\u001b[0m\u001b[0m\n",
      "\u001b[0;32m~/.pyenv/versions/3.7.9/lib/python3.7/json/decoder.py\u001b[0m in \u001b[0;36mraw_decode\u001b[0;34m(self, s, idx)\u001b[0m\n\u001b[1;32m    351\u001b[0m         \"\"\"\n\u001b[1;32m    352\u001b[0m         \u001b[0;32mtry\u001b[0m\u001b[0;34m:\u001b[0m\u001b[0;34m\u001b[0m\u001b[0;34m\u001b[0m\u001b[0m\n\u001b[0;32m--> 353\u001b[0;31m             \u001b[0mobj\u001b[0m\u001b[0;34m,\u001b[0m \u001b[0mend\u001b[0m \u001b[0;34m=\u001b[0m \u001b[0mself\u001b[0m\u001b[0;34m.\u001b[0m\u001b[0mscan_once\u001b[0m\u001b[0;34m(\u001b[0m\u001b[0ms\u001b[0m\u001b[0;34m,\u001b[0m \u001b[0midx\u001b[0m\u001b[0;34m)\u001b[0m\u001b[0;34m\u001b[0m\u001b[0;34m\u001b[0m\u001b[0m\n\u001b[0m\u001b[1;32m    354\u001b[0m         \u001b[0;32mexcept\u001b[0m \u001b[0mStopIteration\u001b[0m \u001b[0;32mas\u001b[0m \u001b[0merr\u001b[0m\u001b[0;34m:\u001b[0m\u001b[0;34m\u001b[0m\u001b[0;34m\u001b[0m\u001b[0m\n\u001b[1;32m    355\u001b[0m             \u001b[0;32mraise\u001b[0m \u001b[0mJSONDecodeError\u001b[0m\u001b[0;34m(\u001b[0m\u001b[0;34m\"Expecting value\"\u001b[0m\u001b[0;34m,\u001b[0m \u001b[0ms\u001b[0m\u001b[0;34m,\u001b[0m \u001b[0merr\u001b[0m\u001b[0;34m.\u001b[0m\u001b[0mvalue\u001b[0m\u001b[0;34m)\u001b[0m \u001b[0;32mfrom\u001b[0m \u001b[0;32mNone\u001b[0m\u001b[0;34m\u001b[0m\u001b[0;34m\u001b[0m\u001b[0m\n",
      "\u001b[0;31mJSONDecodeError\u001b[0m: Expecting property name enclosed in double quotes: line 1 column 2 (char 1)"
     ]
    }
   ],
   "source": [
    "type(json.loads(df['response'][1]))"
   ]
  },
  {
   "cell_type": "code",
   "execution_count": 106,
   "metadata": {},
   "outputs": [
    {
     "ename": "JSONDecodeError",
     "evalue": "Expecting property name enclosed in double quotes: line 1 column 2 (char 1)",
     "output_type": "error",
     "traceback": [
      "\u001b[0;31m---------------------------------------------------------------------------\u001b[0m",
      "\u001b[0;31mJSONDecodeError\u001b[0m                           Traceback (most recent call last)",
      "\u001b[0;32m<ipython-input-106-93ab0b2b8685>\u001b[0m in \u001b[0;36m<module>\u001b[0;34m\u001b[0m\n\u001b[0;32m----> 1\u001b[0;31m \u001b[0mjson\u001b[0m\u001b[0;34m.\u001b[0m\u001b[0mloads\u001b[0m\u001b[0;34m(\u001b[0m\u001b[0mdf\u001b[0m\u001b[0;34m.\u001b[0m\u001b[0mresponse\u001b[0m\u001b[0;34m[\u001b[0m\u001b[0;36m1\u001b[0m\u001b[0;34m]\u001b[0m\u001b[0;34m)\u001b[0m\u001b[0;34m\u001b[0m\u001b[0;34m\u001b[0m\u001b[0m\n\u001b[0m",
      "\u001b[0;32m~/.pyenv/versions/3.7.9/lib/python3.7/json/__init__.py\u001b[0m in \u001b[0;36mloads\u001b[0;34m(s, encoding, cls, object_hook, parse_float, parse_int, parse_constant, object_pairs_hook, **kw)\u001b[0m\n\u001b[1;32m    346\u001b[0m             \u001b[0mparse_int\u001b[0m \u001b[0;32mis\u001b[0m \u001b[0;32mNone\u001b[0m \u001b[0;32mand\u001b[0m \u001b[0mparse_float\u001b[0m \u001b[0;32mis\u001b[0m \u001b[0;32mNone\u001b[0m \u001b[0;32mand\u001b[0m\u001b[0;34m\u001b[0m\u001b[0;34m\u001b[0m\u001b[0m\n\u001b[1;32m    347\u001b[0m             parse_constant is None and object_pairs_hook is None and not kw):\n\u001b[0;32m--> 348\u001b[0;31m         \u001b[0;32mreturn\u001b[0m \u001b[0m_default_decoder\u001b[0m\u001b[0;34m.\u001b[0m\u001b[0mdecode\u001b[0m\u001b[0;34m(\u001b[0m\u001b[0ms\u001b[0m\u001b[0;34m)\u001b[0m\u001b[0;34m\u001b[0m\u001b[0;34m\u001b[0m\u001b[0m\n\u001b[0m\u001b[1;32m    349\u001b[0m     \u001b[0;32mif\u001b[0m \u001b[0mcls\u001b[0m \u001b[0;32mis\u001b[0m \u001b[0;32mNone\u001b[0m\u001b[0;34m:\u001b[0m\u001b[0;34m\u001b[0m\u001b[0;34m\u001b[0m\u001b[0m\n\u001b[1;32m    350\u001b[0m         \u001b[0mcls\u001b[0m \u001b[0;34m=\u001b[0m \u001b[0mJSONDecoder\u001b[0m\u001b[0;34m\u001b[0m\u001b[0;34m\u001b[0m\u001b[0m\n",
      "\u001b[0;32m~/.pyenv/versions/3.7.9/lib/python3.7/json/decoder.py\u001b[0m in \u001b[0;36mdecode\u001b[0;34m(self, s, _w)\u001b[0m\n\u001b[1;32m    335\u001b[0m \u001b[0;34m\u001b[0m\u001b[0m\n\u001b[1;32m    336\u001b[0m         \"\"\"\n\u001b[0;32m--> 337\u001b[0;31m         \u001b[0mobj\u001b[0m\u001b[0;34m,\u001b[0m \u001b[0mend\u001b[0m \u001b[0;34m=\u001b[0m \u001b[0mself\u001b[0m\u001b[0;34m.\u001b[0m\u001b[0mraw_decode\u001b[0m\u001b[0;34m(\u001b[0m\u001b[0ms\u001b[0m\u001b[0;34m,\u001b[0m \u001b[0midx\u001b[0m\u001b[0;34m=\u001b[0m\u001b[0m_w\u001b[0m\u001b[0;34m(\u001b[0m\u001b[0ms\u001b[0m\u001b[0;34m,\u001b[0m \u001b[0;36m0\u001b[0m\u001b[0;34m)\u001b[0m\u001b[0;34m.\u001b[0m\u001b[0mend\u001b[0m\u001b[0;34m(\u001b[0m\u001b[0;34m)\u001b[0m\u001b[0;34m)\u001b[0m\u001b[0;34m\u001b[0m\u001b[0;34m\u001b[0m\u001b[0m\n\u001b[0m\u001b[1;32m    338\u001b[0m         \u001b[0mend\u001b[0m \u001b[0;34m=\u001b[0m \u001b[0m_w\u001b[0m\u001b[0;34m(\u001b[0m\u001b[0ms\u001b[0m\u001b[0;34m,\u001b[0m \u001b[0mend\u001b[0m\u001b[0;34m)\u001b[0m\u001b[0;34m.\u001b[0m\u001b[0mend\u001b[0m\u001b[0;34m(\u001b[0m\u001b[0;34m)\u001b[0m\u001b[0;34m\u001b[0m\u001b[0;34m\u001b[0m\u001b[0m\n\u001b[1;32m    339\u001b[0m         \u001b[0;32mif\u001b[0m \u001b[0mend\u001b[0m \u001b[0;34m!=\u001b[0m \u001b[0mlen\u001b[0m\u001b[0;34m(\u001b[0m\u001b[0ms\u001b[0m\u001b[0;34m)\u001b[0m\u001b[0;34m:\u001b[0m\u001b[0;34m\u001b[0m\u001b[0;34m\u001b[0m\u001b[0m\n",
      "\u001b[0;32m~/.pyenv/versions/3.7.9/lib/python3.7/json/decoder.py\u001b[0m in \u001b[0;36mraw_decode\u001b[0;34m(self, s, idx)\u001b[0m\n\u001b[1;32m    351\u001b[0m         \"\"\"\n\u001b[1;32m    352\u001b[0m         \u001b[0;32mtry\u001b[0m\u001b[0;34m:\u001b[0m\u001b[0;34m\u001b[0m\u001b[0;34m\u001b[0m\u001b[0m\n\u001b[0;32m--> 353\u001b[0;31m             \u001b[0mobj\u001b[0m\u001b[0;34m,\u001b[0m \u001b[0mend\u001b[0m \u001b[0;34m=\u001b[0m \u001b[0mself\u001b[0m\u001b[0;34m.\u001b[0m\u001b[0mscan_once\u001b[0m\u001b[0;34m(\u001b[0m\u001b[0ms\u001b[0m\u001b[0;34m,\u001b[0m \u001b[0midx\u001b[0m\u001b[0;34m)\u001b[0m\u001b[0;34m\u001b[0m\u001b[0;34m\u001b[0m\u001b[0m\n\u001b[0m\u001b[1;32m    354\u001b[0m         \u001b[0;32mexcept\u001b[0m \u001b[0mStopIteration\u001b[0m \u001b[0;32mas\u001b[0m \u001b[0merr\u001b[0m\u001b[0;34m:\u001b[0m\u001b[0;34m\u001b[0m\u001b[0;34m\u001b[0m\u001b[0m\n\u001b[1;32m    355\u001b[0m             \u001b[0;32mraise\u001b[0m \u001b[0mJSONDecodeError\u001b[0m\u001b[0;34m(\u001b[0m\u001b[0;34m\"Expecting value\"\u001b[0m\u001b[0;34m,\u001b[0m \u001b[0ms\u001b[0m\u001b[0;34m,\u001b[0m \u001b[0merr\u001b[0m\u001b[0;34m.\u001b[0m\u001b[0mvalue\u001b[0m\u001b[0;34m)\u001b[0m \u001b[0;32mfrom\u001b[0m \u001b[0;32mNone\u001b[0m\u001b[0;34m\u001b[0m\u001b[0;34m\u001b[0m\u001b[0m\n",
      "\u001b[0;31mJSONDecodeError\u001b[0m: Expecting property name enclosed in double quotes: line 1 column 2 (char 1)"
     ]
    }
   ],
   "source": [
    "json.loads(df.response[1])"
   ]
  },
  {
   "cell_type": "code",
   "execution_count": 20,
   "metadata": {},
   "outputs": [],
   "source": [
    "# # rows list initialization \n",
    "# rows = [] \n",
    "  \n",
    "# # appending rows \n",
    "# for data in list: \n",
    "#     data_row = df['response']  \n",
    "      \n",
    "#     for row in data_row: \n",
    "#         row['Name']= json.loads(data_row) \n",
    "#         rows.append(row) \n",
    "  \n",
    "# # using data frame \n",
    "# df = pd.DataFrame(rows) \n",
    "  \n",
    "# # print(df) "
   ]
  },
  {
   "cell_type": "code",
   "execution_count": 9,
   "metadata": {},
   "outputs": [],
   "source": [
    "df_head = df.head()"
   ]
  },
  {
   "cell_type": "code",
   "execution_count": 10,
   "metadata": {},
   "outputs": [
    {
     "ename": "JSONDecodeError",
     "evalue": "Expecting property name enclosed in double quotes: line 1 column 2 (char 1)",
     "output_type": "error",
     "traceback": [
      "\u001b[0;31m---------------------------------------------------------------------------\u001b[0m",
      "\u001b[0;31mJSONDecodeError\u001b[0m                           Traceback (most recent call last)",
      "\u001b[0;32m<ipython-input-10-450c155e4c1d>\u001b[0m in \u001b[0;36m<module>\u001b[0;34m\u001b[0m\n\u001b[0;32m----> 1\u001b[0;31m \u001b[0mdf_head\u001b[0m\u001b[0;34m[\u001b[0m\u001b[0;34m'response_json'\u001b[0m\u001b[0;34m]\u001b[0m \u001b[0;34m=\u001b[0m \u001b[0mdf_head\u001b[0m\u001b[0;34m[\u001b[0m\u001b[0;34m'response'\u001b[0m\u001b[0;34m]\u001b[0m\u001b[0;34m.\u001b[0m\u001b[0mapply\u001b[0m\u001b[0;34m(\u001b[0m\u001b[0mjson\u001b[0m\u001b[0;34m.\u001b[0m\u001b[0mloads\u001b[0m\u001b[0;34m)\u001b[0m\u001b[0;34m\u001b[0m\u001b[0;34m\u001b[0m\u001b[0m\n\u001b[0m",
      "\u001b[0;32m~/.pyenv/versions/3.7.9/envs/ds/lib/python3.7/site-packages/pandas/core/series.py\u001b[0m in \u001b[0;36mapply\u001b[0;34m(self, func, convert_dtype, args, **kwds)\u001b[0m\n\u001b[1;32m   4136\u001b[0m             \u001b[0;32melse\u001b[0m\u001b[0;34m:\u001b[0m\u001b[0;34m\u001b[0m\u001b[0;34m\u001b[0m\u001b[0m\n\u001b[1;32m   4137\u001b[0m                 \u001b[0mvalues\u001b[0m \u001b[0;34m=\u001b[0m \u001b[0mself\u001b[0m\u001b[0;34m.\u001b[0m\u001b[0mastype\u001b[0m\u001b[0;34m(\u001b[0m\u001b[0mobject\u001b[0m\u001b[0;34m)\u001b[0m\u001b[0;34m.\u001b[0m\u001b[0m_values\u001b[0m\u001b[0;34m\u001b[0m\u001b[0;34m\u001b[0m\u001b[0m\n\u001b[0;32m-> 4138\u001b[0;31m                 \u001b[0mmapped\u001b[0m \u001b[0;34m=\u001b[0m \u001b[0mlib\u001b[0m\u001b[0;34m.\u001b[0m\u001b[0mmap_infer\u001b[0m\u001b[0;34m(\u001b[0m\u001b[0mvalues\u001b[0m\u001b[0;34m,\u001b[0m \u001b[0mf\u001b[0m\u001b[0;34m,\u001b[0m \u001b[0mconvert\u001b[0m\u001b[0;34m=\u001b[0m\u001b[0mconvert_dtype\u001b[0m\u001b[0;34m)\u001b[0m\u001b[0;34m\u001b[0m\u001b[0;34m\u001b[0m\u001b[0m\n\u001b[0m\u001b[1;32m   4139\u001b[0m \u001b[0;34m\u001b[0m\u001b[0m\n\u001b[1;32m   4140\u001b[0m         \u001b[0;32mif\u001b[0m \u001b[0mlen\u001b[0m\u001b[0;34m(\u001b[0m\u001b[0mmapped\u001b[0m\u001b[0;34m)\u001b[0m \u001b[0;32mand\u001b[0m \u001b[0misinstance\u001b[0m\u001b[0;34m(\u001b[0m\u001b[0mmapped\u001b[0m\u001b[0;34m[\u001b[0m\u001b[0;36m0\u001b[0m\u001b[0;34m]\u001b[0m\u001b[0;34m,\u001b[0m \u001b[0mSeries\u001b[0m\u001b[0;34m)\u001b[0m\u001b[0;34m:\u001b[0m\u001b[0;34m\u001b[0m\u001b[0;34m\u001b[0m\u001b[0m\n",
      "\u001b[0;32mpandas/_libs/lib.pyx\u001b[0m in \u001b[0;36mpandas._libs.lib.map_infer\u001b[0;34m()\u001b[0m\n",
      "\u001b[0;32m~/.pyenv/versions/3.7.9/lib/python3.7/json/__init__.py\u001b[0m in \u001b[0;36mloads\u001b[0;34m(s, encoding, cls, object_hook, parse_float, parse_int, parse_constant, object_pairs_hook, **kw)\u001b[0m\n\u001b[1;32m    346\u001b[0m             \u001b[0mparse_int\u001b[0m \u001b[0;32mis\u001b[0m \u001b[0;32mNone\u001b[0m \u001b[0;32mand\u001b[0m \u001b[0mparse_float\u001b[0m \u001b[0;32mis\u001b[0m \u001b[0;32mNone\u001b[0m \u001b[0;32mand\u001b[0m\u001b[0;34m\u001b[0m\u001b[0;34m\u001b[0m\u001b[0m\n\u001b[1;32m    347\u001b[0m             parse_constant is None and object_pairs_hook is None and not kw):\n\u001b[0;32m--> 348\u001b[0;31m         \u001b[0;32mreturn\u001b[0m \u001b[0m_default_decoder\u001b[0m\u001b[0;34m.\u001b[0m\u001b[0mdecode\u001b[0m\u001b[0;34m(\u001b[0m\u001b[0ms\u001b[0m\u001b[0;34m)\u001b[0m\u001b[0;34m\u001b[0m\u001b[0;34m\u001b[0m\u001b[0m\n\u001b[0m\u001b[1;32m    349\u001b[0m     \u001b[0;32mif\u001b[0m \u001b[0mcls\u001b[0m \u001b[0;32mis\u001b[0m \u001b[0;32mNone\u001b[0m\u001b[0;34m:\u001b[0m\u001b[0;34m\u001b[0m\u001b[0;34m\u001b[0m\u001b[0m\n\u001b[1;32m    350\u001b[0m         \u001b[0mcls\u001b[0m \u001b[0;34m=\u001b[0m \u001b[0mJSONDecoder\u001b[0m\u001b[0;34m\u001b[0m\u001b[0;34m\u001b[0m\u001b[0m\n",
      "\u001b[0;32m~/.pyenv/versions/3.7.9/lib/python3.7/json/decoder.py\u001b[0m in \u001b[0;36mdecode\u001b[0;34m(self, s, _w)\u001b[0m\n\u001b[1;32m    335\u001b[0m \u001b[0;34m\u001b[0m\u001b[0m\n\u001b[1;32m    336\u001b[0m         \"\"\"\n\u001b[0;32m--> 337\u001b[0;31m         \u001b[0mobj\u001b[0m\u001b[0;34m,\u001b[0m \u001b[0mend\u001b[0m \u001b[0;34m=\u001b[0m \u001b[0mself\u001b[0m\u001b[0;34m.\u001b[0m\u001b[0mraw_decode\u001b[0m\u001b[0;34m(\u001b[0m\u001b[0ms\u001b[0m\u001b[0;34m,\u001b[0m \u001b[0midx\u001b[0m\u001b[0;34m=\u001b[0m\u001b[0m_w\u001b[0m\u001b[0;34m(\u001b[0m\u001b[0ms\u001b[0m\u001b[0;34m,\u001b[0m \u001b[0;36m0\u001b[0m\u001b[0;34m)\u001b[0m\u001b[0;34m.\u001b[0m\u001b[0mend\u001b[0m\u001b[0;34m(\u001b[0m\u001b[0;34m)\u001b[0m\u001b[0;34m)\u001b[0m\u001b[0;34m\u001b[0m\u001b[0;34m\u001b[0m\u001b[0m\n\u001b[0m\u001b[1;32m    338\u001b[0m         \u001b[0mend\u001b[0m \u001b[0;34m=\u001b[0m \u001b[0m_w\u001b[0m\u001b[0;34m(\u001b[0m\u001b[0ms\u001b[0m\u001b[0;34m,\u001b[0m \u001b[0mend\u001b[0m\u001b[0;34m)\u001b[0m\u001b[0;34m.\u001b[0m\u001b[0mend\u001b[0m\u001b[0;34m(\u001b[0m\u001b[0;34m)\u001b[0m\u001b[0;34m\u001b[0m\u001b[0;34m\u001b[0m\u001b[0m\n\u001b[1;32m    339\u001b[0m         \u001b[0;32mif\u001b[0m \u001b[0mend\u001b[0m \u001b[0;34m!=\u001b[0m \u001b[0mlen\u001b[0m\u001b[0;34m(\u001b[0m\u001b[0ms\u001b[0m\u001b[0;34m)\u001b[0m\u001b[0;34m:\u001b[0m\u001b[0;34m\u001b[0m\u001b[0;34m\u001b[0m\u001b[0m\n",
      "\u001b[0;32m~/.pyenv/versions/3.7.9/lib/python3.7/json/decoder.py\u001b[0m in \u001b[0;36mraw_decode\u001b[0;34m(self, s, idx)\u001b[0m\n\u001b[1;32m    351\u001b[0m         \"\"\"\n\u001b[1;32m    352\u001b[0m         \u001b[0;32mtry\u001b[0m\u001b[0;34m:\u001b[0m\u001b[0;34m\u001b[0m\u001b[0;34m\u001b[0m\u001b[0m\n\u001b[0;32m--> 353\u001b[0;31m             \u001b[0mobj\u001b[0m\u001b[0;34m,\u001b[0m \u001b[0mend\u001b[0m \u001b[0;34m=\u001b[0m \u001b[0mself\u001b[0m\u001b[0;34m.\u001b[0m\u001b[0mscan_once\u001b[0m\u001b[0;34m(\u001b[0m\u001b[0ms\u001b[0m\u001b[0;34m,\u001b[0m \u001b[0midx\u001b[0m\u001b[0;34m)\u001b[0m\u001b[0;34m\u001b[0m\u001b[0;34m\u001b[0m\u001b[0m\n\u001b[0m\u001b[1;32m    354\u001b[0m         \u001b[0;32mexcept\u001b[0m \u001b[0mStopIteration\u001b[0m \u001b[0;32mas\u001b[0m \u001b[0merr\u001b[0m\u001b[0;34m:\u001b[0m\u001b[0;34m\u001b[0m\u001b[0;34m\u001b[0m\u001b[0m\n\u001b[1;32m    355\u001b[0m             \u001b[0;32mraise\u001b[0m \u001b[0mJSONDecodeError\u001b[0m\u001b[0;34m(\u001b[0m\u001b[0;34m\"Expecting value\"\u001b[0m\u001b[0;34m,\u001b[0m \u001b[0ms\u001b[0m\u001b[0;34m,\u001b[0m \u001b[0merr\u001b[0m\u001b[0;34m.\u001b[0m\u001b[0mvalue\u001b[0m\u001b[0;34m)\u001b[0m \u001b[0;32mfrom\u001b[0m \u001b[0;32mNone\u001b[0m\u001b[0;34m\u001b[0m\u001b[0;34m\u001b[0m\u001b[0m\n",
      "\u001b[0;31mJSONDecodeError\u001b[0m: Expecting property name enclosed in double quotes: line 1 column 2 (char 1)"
     ]
    }
   ],
   "source": [
    "df_head['response_json'] = df_head['response'].apply(json.loads)"
   ]
  },
  {
   "cell_type": "code",
   "execution_count": 11,
   "metadata": {},
   "outputs": [],
   "source": [
    "# df['response'] = df['response'].str.replace('\"', \"'\")\n",
    "# df['response'] = df['response'].str.replace(\"'\", '\"')"
   ]
  },
  {
   "cell_type": "code",
   "execution_count": 12,
   "metadata": {},
   "outputs": [],
   "source": [
    "def loads_catch(row):\n",
    "    try:\n",
    "        json.loads(row)\n",
    "    except Exception as e:\n",
    "        pprint(row)\n",
    "        print(e)"
   ]
  },
  {
   "cell_type": "code",
   "execution_count": 13,
   "metadata": {},
   "outputs": [
    {
     "ename": "SyntaxError",
     "evalue": "EOL while scanning string literal (<ipython-input-13-83ae16b39c86>, line 1)",
     "output_type": "error",
     "traceback": [
      "\u001b[0;36m  File \u001b[0;32m\"<ipython-input-13-83ae16b39c86>\"\u001b[0;36m, line \u001b[0;32m1\u001b[0m\n\u001b[0;31m    [{'long_name': 'Bundall Road & Slatyer Avenue', \" \"'short_name': 'Bundal\u001b[0m\n\u001b[0m                                                                            ^\u001b[0m\n\u001b[0;31mSyntaxError\u001b[0m\u001b[0;31m:\u001b[0m EOL while scanning string literal\n"
     ]
    }
   ],
   "source": [
    "[{'long_name': 'Bundall Road & Slatyer Avenue', \" \"'short_name': 'Bundal"
   ]
  },
  {
   "cell_type": "code",
   "execution_count": null,
   "metadata": {},
   "outputs": [],
   "source": [
    "\" '\"none\","
   ]
  },
  {
   "cell_type": "code",
   "execution_count": 14,
   "metadata": {
    "scrolled": false
   },
   "outputs": [
    {
     "name": "stdout",
     "output_type": "stream",
     "text": [
      "(\"{'address_components': [{'long_name': 'Bundall Road & Slatyer Avenue', \"\n",
      " \"'short_name': 'Bundall Rd & Slatyer Ave', 'types': ['intersection']}, \"\n",
      " \"{'long_name': 'Bundall', 'short_name': 'Bundall', 'types': ['locality', \"\n",
      " \"'political']}, {'long_name': 'City of Gold Coast', 'short_name': 'Gold \"\n",
      " \"Coast', 'types': ['administrative_area_level_2', 'political']}, \"\n",
      " \"{'long_name': 'Queensland', 'short_name': 'QLD', 'types': \"\n",
      " \"['administrative_area_level_1', 'political']}, {'long_name': 'Australia', \"\n",
      " \"'short_name': 'AU', 'types': ['country', 'political']}, {'long_name': \"\n",
      " \"'4217', 'short_name': '4217', 'types': ['postal_code']}], \"\n",
      " \"'formatted_address': 'Bundall Rd & Slatyer Ave, Bundall QLD 4217, \"\n",
      " \"Australia', 'geometry': {'location': {'lat': -27.9976302, 'lng': \"\n",
      " \"153.4141172}, 'location_type': 'GEOMETRIC_CENTER', 'viewport': {'northeast': \"\n",
      " \"{'lat': -27.9962812197085, 'lng': 153.4154661802915}, 'southwest': {'lat': \"\n",
      " \"-27.9989791802915, 'lng': 153.4127682197085}}}, 'partial_match': true, \"\n",
      " \"'place_id': \"\n",
      " \"'EjVCdW5kYWxsIFJkICYgU2xhdHllciBBdmUsIEJ1bmRhbGwgUUxEIDQyMTcsIEF1c3RyYWxpYSJmImQKFAoSCeXEHjVABZFrEWe7h22UE8tZEhQKEgnlxB41QAWRaxFnu4dtlBPLWRoUChIJL6kK0T0FkWsR6nklFR-GhrUaFAoSCSPmlM5HBZFrEQEWnceuQwCyIgoNkuZP7xX0InFb', \"\n",
      " \"'types': ['intersection'], 'rca_extended_properties': {'geocode': \"\n",
      " \"{'quality_id': 5, 'quality_tx': 'Postal Code'}, 'distanceInMeters': \"\n",
      " '\"none\", \\'displayCity_tx\\': \\'Gold Coast\\', \\'displayCityNameOrigin_id\\': 8, '\n",
      " \"'searchParcels': false}, 'reverse_geocode': {'adminLevel2_id': 12489, \"\n",
      " \"'adminLevel2_tx': 'Gold Coast (C)', 'adminLevel2Type_tx': 'Local_Gov_Area', \"\n",
      " \"'adminLevel2_display_city_name_fg': false, 'adminLevel1_id': 1504, \"\n",
      " \"'adminLevel1_tx': 'Queensland', 'adminLevel1Type_tx': 'States', \"\n",
      " \"'adminLevel1_display_city_name_fg': false, 'adminLevel0_id': 13, \"\n",
      " \"'adminLevel0_tx': 'Australia', 'adminLevel0_display_city_name_fg': false, \"\n",
      " \"'postalCode_id': 39319, 'postalCode_tx': '4217', 'city_id': 166830, \"\n",
      " \"'city_tx': 'Gold Coast', 'city_display_city_name_fg': true, 'subMarket_id': \"\n",
      " \"1460, 'subMarket_tx': 'Gold Coast', 'market_id': 611, 'market_tx': 'Gold \"\n",
      " \"Coast', 'metro_id': 94, 'metro_tx': 'Gold Coast', 'region_id': 288, \"\n",
      " \"'region_tx': 'Queensland', 'subTheatre_id': 2, 'subTheatre_tx': 'Australia', \"\n",
      " \"'theatre_id': 2, 'theatre_tx': 'Australia - NZ', 'continent_id': 4, \"\n",
      " \"'continent_tx': 'Pacific', 'zone_id': 2, 'zone_tx': 'AsiaPac', 'cbd_fg': \"\n",
      " 'false}}')\n",
      "Expecting property name enclosed in double quotes: line 1 column 2 (char 1)\n",
      "(\"{'address_components': [{'long_name': 'St. Marys', 'short_name': 'St Marys', \"\n",
      " \"'types': ['locality', 'political']}, {'long_name': 'Camden County', \"\n",
      " \"'short_name': 'Camden County', 'types': ['administrative_area_level_2', \"\n",
      " \"'political']}, {'long_name': 'Georgia', 'short_name': 'GA', 'types': \"\n",
      " \"['administrative_area_level_1', 'political']}, {'long_name': 'United \"\n",
      " \"States', 'short_name': 'US', 'types': ['country', 'political']}, \"\n",
      " \"{'long_name': '31558', 'short_name': '31558', 'types': ['postal_code']}], \"\n",
      " \"'formatted_address': 'St Marys, GA 31558, USA', 'geometry': {'bounds': \"\n",
      " \"{'northeast': {'lat': 30.844184, 'lng': -81.50551990000001}, 'southwest': \"\n",
      " \"{'lat': 30.708651, 'lng': -81.6406399}}, 'location': {'lat': 30.7478954, \"\n",
      " \"'lng': -81.57061089999999}, 'location_type': 'APPROXIMATE', 'viewport': \"\n",
      " \"{'northeast': {'lat': 30.844184, 'lng': -81.50551990000001}, 'southwest': \"\n",
      " \"{'lat': 30.708651, 'lng': -81.6406399}}}, 'partial_match': true, 'place_id': \"\n",
      " \"'ChIJiVXa-J4D5YgR_9oA5sRZda4', 'types': ['locality', 'political'], \"\n",
      " \"'rca_extended_properties': {'geocode': {'quality_id': 4, 'quality_tx': \"\n",
      " '\\'Town\\'}, \\'distanceInMeters\\': \"none\", \\'displayCity_tx\\': \\'Saint '\n",
      " \"Marys', 'displayCityNameOrigin_id': 8, 'searchParcels': true}, \"\n",
      " \"'reverse_geocode': {'adminLevel5_id': 52548, 'adminLevel5_tx': \"\n",
      " \"'130390106012', 'adminLevel5Type_tx': 'Block Groups', \"\n",
      " \"'adminLevel5_display_city_name_fg': false, 'adminLevel4_id': 4324, \"\n",
      " \"'adminLevel4_tx': '106.01', 'adminLevel4Type_tx': 'Tracts', \"\n",
      " \"'adminLevel4_display_city_name_fg': false, 'adminLevel3_id': 31602, \"\n",
      " \"'adminLevel3_tx': 'St. Marys', 'adminLevel3Type_tx': 'County_Subdivision', \"\n",
      " \"'adminLevel3_display_city_name_fg': false, 'adminLevel2_id': 380, \"\n",
      " \"'adminLevel2_tx': 'Camden', 'adminLevel2Type_tx': 'Counties', \"\n",
      " \"'adminLevel2_display_city_name_fg': false, 'adminLevel1_id': 13, \"\n",
      " \"'adminLevel1_tx': 'Georgia', 'adminLevel1Type_tx': 'States', \"\n",
      " \"'adminLevel1_display_city_name_fg': false, 'adminLevel0_id': 1, \"\n",
      " \"'adminLevel0_tx': 'United States', 'adminLevel0_display_city_name_fg': \"\n",
      " \"false, 'postalCode_id': 10164, 'postalCode_tx': '31558', 'city_id': 25612, \"\n",
      " \"'city_tx': 'Saint Marys', 'city_display_city_name_fg': true, 'subMarket_id': \"\n",
      " \"17, 'subMarket_tx': 'All Others - GA', 'market_id': 8, 'market_tx': 'All \"\n",
      " \"Others - GA,NC,SC,TN,KY', 'metro_id': 8, 'metro_tx': 'All Others - \"\n",
      " \"GA,NC,SC,TN,KY', 'region_id': 225, 'region_tx': 'Southeast', \"\n",
      " \"'subTheatre_id': 21, 'subTheatre_tx': 'United States', 'theatre_id': 12, \"\n",
      " \"'theatre_tx': 'United States', 'continent_id': 7, 'continent_tx': 'North \"\n",
      " \"America', 'zone_id': 1, 'zone_tx': 'Americas', 'cbd_fg': false, \"\n",
      " \"'indexMarket_id': 32, 'cbsa_id': 86, 'csa_id': 70}}\")\n",
      "Expecting property name enclosed in double quotes: line 1 column 2 (char 1)\n",
      "(\"{'address_components': [{'long_name': 'Hamilton Avenue', 'short_name': \"\n",
      " \"'Hamilton Ave', 'types': ['route']}, {'long_name': 'Surfers Paradise', \"\n",
      " \"'short_name': 'Surfers Paradise', 'types': ['locality', 'political']}, \"\n",
      " \"{'long_name': 'Queensland', 'short_name': 'QLD', 'types': \"\n",
      " \"['administrative_area_level_1', 'political']}, {'long_name': 'Australia', \"\n",
      " \"'short_name': 'AU', 'types': ['country', 'political']}, {'long_name': \"\n",
      " \"'4217', 'short_name': '4217', 'types': ['postal_code']}], \"\n",
      " \"'formatted_address': 'Hamilton Ave, Surfers Paradise QLD 4217, Australia', \"\n",
      " \"'geometry': {'bounds': {'northeast': {'lat': -28.0064993, 'lng': \"\n",
      " \"153.4319285}, 'southwest': {'lat': -28.0071458, 'lng': 153.4277222}}, \"\n",
      " \"'location': {'lat': -28.0067368, 'lng': 153.4292148}, 'location_type': \"\n",
      " \"'GEOMETRIC_CENTER', 'viewport': {'northeast': {'lat': -28.0054735697085, \"\n",
      " \"'lng': 153.4319285}, 'southwest': {'lat': -28.0081715302915, 'lng': \"\n",
      " \"153.4277222}}}, 'place_id': \"\n",
      " \"'EjJIYW1pbHRvbiBBdmUsIFN1cmZlcnMgUGFyYWRpc2UgUUxEIDQyMTcsIEF1c3RyYWxpYSIuKiwKFAoSCctgI64NBZFrES37EJsYu9hzEhQKEgm3wtGf4Q-RaxGApt7zWqMCBQ', \"\n",
      " \"'types': ['route'], 'rca_extended_properties': {'geocode': {'quality_id': 5, \"\n",
      " '\\'quality_tx\\': \\'Postal Code\\'}, \\'distanceInMeters\\': \"none\", '\n",
      " \"'displayCity_tx': 'Gold Coast', 'displayCityNameOrigin_id': 8, \"\n",
      " \"'searchParcels': false}, 'reverse_geocode': {'adminLevel2_id': 12489, \"\n",
      " \"'adminLevel2_tx': 'Gold Coast (C)', 'adminLevel2Type_tx': 'Local_Gov_Area', \"\n",
      " \"'adminLevel2_display_city_name_fg': false, 'adminLevel1_id': 1504, \"\n",
      " \"'adminLevel1_tx': 'Queensland', 'adminLevel1Type_tx': 'States', \"\n",
      " \"'adminLevel1_display_city_name_fg': false, 'adminLevel0_id': 13, \"\n",
      " \"'adminLevel0_tx': 'Australia', 'adminLevel0_display_city_name_fg': false, \"\n",
      " \"'postalCode_id': 39319, 'postalCode_tx': '4217', 'city_id': 166830, \"\n",
      " \"'city_tx': 'Gold Coast', 'city_display_city_name_fg': true, 'subMarket_id': \"\n",
      " \"1460, 'subMarket_tx': 'Gold Coast', 'market_id': 611, 'market_tx': 'Gold \"\n",
      " \"Coast', 'metro_id': 94, 'metro_tx': 'Gold Coast', 'region_id': 288, \"\n",
      " \"'region_tx': 'Queensland', 'subTheatre_id': 2, 'subTheatre_tx': 'Australia', \"\n",
      " \"'theatre_id': 2, 'theatre_tx': 'Australia - NZ', 'continent_id': 4, \"\n",
      " \"'continent_tx': 'Pacific', 'zone_id': 2, 'zone_tx': 'AsiaPac', 'cbd_fg': \"\n",
      " 'false}}')\n",
      "Expecting property name enclosed in double quotes: line 1 column 2 (char 1)\n",
      "(\"{'address_components': [{'long_name': 'Logan Road', 'short_name': 'Logan \"\n",
      " \"Rd', 'types': ['route']}, {'long_name': 'Mount Gravatt', 'short_name': \"\n",
      " \"'Mount Gravatt', 'types': ['locality', 'political']}, {'long_name': \"\n",
      " \"'Queensland', 'short_name': 'QLD', 'types': ['administrative_area_level_1', \"\n",
      " \"'political']}, {'long_name': 'Australia', 'short_name': 'AU', 'types': \"\n",
      " \"['country', 'political']}, {'long_name': '4122', 'short_name': '4122', \"\n",
      " \"'types': ['postal_code']}], 'formatted_address': 'Logan Rd, Mount Gravatt \"\n",
      " \"QLD 4122, Australia', 'geometry': {'bounds': {'northeast': {'lat': \"\n",
      " \"-27.5284794, 'lng': 153.0817759}, 'southwest': {'lat': -27.548713, 'lng': \"\n",
      " \"153.0706592}}, 'location': {'lat': -27.5372564, 'lng': 153.0784528}, \"\n",
      " \"'location_type': 'GEOMETRIC_CENTER', 'viewport': {'northeast': {'lat': \"\n",
      " \"-27.5284794, 'lng': 153.0817759}, 'southwest': {'lat': -27.548713, 'lng': \"\n",
      " \"153.0706592}}}, 'place_id': \"\n",
      " \"'EitMb2dhbiBSZCwgTW91bnQgR3JhdmF0dCBRTEQgNDEyMiwgQXVzdHJhbGlhIi4qLAoUChIJ16B34jlbkWsRMZDfFyMw9UQSFAoSCS1I4wLVWpFrEXCR3vNaowIF', \"\n",
      " \"'types': ['route'], 'rca_extended_properties': {'geocode': {'quality_id': 5, \"\n",
      " '\\'quality_tx\\': \\'Postal Code\\'}, \\'distanceInMeters\\': \"none\", '\n",
      " \"'displayCity_tx': 'Brisbane', 'displayCityNameOrigin_id': 8, \"\n",
      " \"'searchParcels': false}, 'reverse_geocode': {'adminLevel2_id': 7340, \"\n",
      " \"'adminLevel2_tx': 'Brisbane (C)', 'adminLevel2Type_tx': 'Local_Gov_Area', \"\n",
      " \"'adminLevel2_display_city_name_fg': false, 'adminLevel1_id': 1504, \"\n",
      " \"'adminLevel1_tx': 'Queensland', 'adminLevel1Type_tx': 'States', \"\n",
      " \"'adminLevel1_display_city_name_fg': false, 'adminLevel0_id': 13, \"\n",
      " \"'adminLevel0_tx': 'Australia', 'adminLevel0_display_city_name_fg': false, \"\n",
      " \"'postalCode_id': 39273, 'postalCode_tx': '4122', 'city_id': 167534, \"\n",
      " \"'city_tx': 'Brisbane', 'city_display_city_name_fg': true, 'subMarket_id': \"\n",
      " \"622, 'subMarket_tx': 'Brisbane - Rest of', 'market_id': 40, 'market_tx': \"\n",
      " \"'Brisbane - Rest of', 'metro_id': 40, 'metro_tx': 'Brisbane', 'region_id': \"\n",
      " \"288, 'region_tx': 'Queensland', 'subTheatre_id': 2, 'subTheatre_tx': \"\n",
      " \"'Australia', 'theatre_id': 2, 'theatre_tx': 'Australia - NZ', \"\n",
      " \"'continent_id': 4, 'continent_tx': 'Pacific', 'zone_id': 2, 'zone_tx': \"\n",
      " \"'AsiaPac', 'cbd_fg': false}}\")\n",
      "Expecting property name enclosed in double quotes: line 1 column 2 (char 1)\n",
      "(\"{'address_components': [{'long_name': 'Railway Street', 'short_name': \"\n",
      " \"'Railway St', 'types': ['route']}, {'long_name': 'Wentworthville', \"\n",
      " \"'short_name': 'Wentworthville', 'types': ['locality', 'political']}, \"\n",
      " \"{'long_name': 'City of Parramatta Council', 'short_name': 'City of \"\n",
      " \"Parramatta Council', 'types': ['administrative_area_level_2', 'political']}, \"\n",
      " \"{'long_name': 'New South Wales', 'short_name': 'NSW', 'types': \"\n",
      " \"['administrative_area_level_1', 'political']}, {'long_name': 'Australia', \"\n",
      " \"'short_name': 'AU', 'types': ['country', 'political']}, {'long_name': \"\n",
      " \"'2145', 'short_name': '2145', 'types': ['postal_code']}], \"\n",
      " \"'formatted_address': 'Railway St, Wentworthville NSW 2145, Australia', \"\n",
      " \"'geometry': {'bounds': {'northeast': {'lat': -33.80059910000001, 'lng': \"\n",
      " \"150.9758292}, 'southwest': {'lat': -33.8071343, 'lng': 150.972192}}, \"\n",
      " \"'location': {'lat': -33.8036988, 'lng': 150.9740372}, 'location_type': \"\n",
      " \"'GEOMETRIC_CENTER', 'viewport': {'northeast': {'lat': -33.80059910000001, \"\n",
      " \"'lng': 150.9758292}, 'southwest': {'lat': -33.8071343, 'lng': 150.972192}}}, \"\n",
      " \"'place_id': 'ChIJF3Mpf5SiEmsR_vq9IgBsZZ0', 'types': ['route'], \"\n",
      " \"'rca_extended_properties': {'geocode': {'quality_id': 5, 'quality_tx': \"\n",
      " '\\'Postal Code\\'}, \\'distanceInMeters\\': \"none\", \\'displayCity_tx\\': '\n",
      " \"'Parramatta, Sydney', 'displayCityNameOrigin_id': 7, 'searchParcels': \"\n",
      " \"false}, 'reverse_geocode': {'adminLevel2_id': 23033, 'adminLevel2_tx': \"\n",
      " \"'Parramatta (C)', 'adminLevel2Type_tx': 'Local_Gov_Area', \"\n",
      " \"'adminLevel2_display_city_name_fg': false, 'adminLevel1_id': 1262, \"\n",
      " \"'adminLevel1_tx': 'New South Wales', 'adminLevel1Type_tx': 'States', \"\n",
      " \"'adminLevel1_display_city_name_fg': false, 'adminLevel0_id': 13, \"\n",
      " \"'adminLevel0_tx': 'Australia', 'adminLevel0_display_city_name_fg': false, \"\n",
      " \"'postalCode_id': 37994, 'postalCode_tx': '2145', 'city_id': 167531, \"\n",
      " \"'city_tx': 'Sydney', 'city_display_city_name_fg': true, 'subMarket_id': 726, \"\n",
      " \"'subMarket_tx': 'Sydney - Rest of', 'market_id': 270, 'market_tx': 'Sydney - \"\n",
      " \"Rest of', 'metro_id': 250, 'metro_tx': 'Sydney', 'region_id': 14, \"\n",
      " \"'region_tx': 'New South Wales', 'subTheatre_id': 2, 'subTheatre_tx': \"\n",
      " \"'Australia', 'theatre_id': 2, 'theatre_tx': 'Australia - NZ', \"\n",
      " \"'continent_id': 4, 'continent_tx': 'Pacific', 'zone_id': 2, 'zone_tx': \"\n",
      " \"'AsiaPac', 'cbd_fg': false, 'neighborhood_id': 9647, 'neighborhood_tx': \"\n",
      " \"'Parramatta, Sydney', 'neighborhood_display_city_name_fg': true}}\")\n",
      "Expecting property name enclosed in double quotes: line 1 column 2 (char 1)\n",
      "(\"{'address_components': [{'long_name': 'Sunshine Road', 'short_name': \"\n",
      " \"'Sunshine Rd', 'types': ['route']}, {'long_name': 'Tottenham', 'short_name': \"\n",
      " \"'Tottenham', 'types': ['locality', 'political']}, {'long_name': 'Victoria', \"\n",
      " \"'short_name': 'VIC', 'types': ['administrative_area_level_1', 'political']}, \"\n",
      " \"{'long_name': 'Australia', 'short_name': 'AU', 'types': ['country', \"\n",
      " \"'political']}, {'long_name': '3012', 'short_name': '3012', 'types': \"\n",
      " \"['postal_code']}], 'formatted_address': 'Sunshine Rd, Tottenham VIC 3012, \"\n",
      " \"Australia', 'geometry': {'bounds': {'northeast': {'lat': -37.7968528, 'lng': \"\n",
      " \"144.8625826}, 'southwest': {'lat': -37.7996473, 'lng': 144.8388154}}, \"\n",
      " \"'location': {'lat': -37.7983046, 'lng': 144.85155}, 'location_type': \"\n",
      " \"'GEOMETRIC_CENTER', 'viewport': {'northeast': {'lat': -37.7968528, 'lng': \"\n",
      " \"144.8625826}, 'southwest': {'lat': -37.7996473, 'lng': 144.8388154}}}, \"\n",
      " \"'place_id': \"\n",
      " \"'EipTdW5zaGluZSBSZCwgVG90dGVuaGFtIFZJQyAzMDEyLCBBdXN0cmFsaWEiLiosChQKEgkf0oiGqGDWahEKlqmJq4uUXRIUChIJSzcjyrxg1moRQPyMIXVWBAU', \"\n",
      " \"'types': ['route'], 'rca_extended_properties': {'geocode': {'quality_id': 5, \"\n",
      " '\\'quality_tx\\': \\'Postal Code\\'}, \\'distanceInMeters\\': \"none\", '\n",
      " \"'displayCity_tx': 'Braybrook, Melbourne', 'displayCityNameOrigin_id': 7, \"\n",
      " \"'searchParcels': false}, 'reverse_geocode': {'adminLevel2_id': 19033, \"\n",
      " \"'adminLevel2_tx': 'Maribyrnong (C)', 'adminLevel2Type_tx': 'Local_Gov_Area', \"\n",
      " \"'adminLevel2_display_city_name_fg': false, 'adminLevel1_id': 1945, \"\n",
      " \"'adminLevel1_tx': 'Victoria', 'adminLevel1Type_tx': 'States', \"\n",
      " \"'adminLevel1_display_city_name_fg': false, 'adminLevel0_id': 13, \"\n",
      " \"'adminLevel0_tx': 'Australia', 'adminLevel0_display_city_name_fg': false, \"\n",
      " \"'postalCode_id': 38518, 'postalCode_tx': '3012', 'city_id': 167530, \"\n",
      " \"'city_tx': 'Melbourne', 'city_display_city_name_fg': true, 'subMarket_id': \"\n",
      " \"679, 'subMarket_tx': 'Melbourne - Rest of', 'market_id': 161, 'market_tx': \"\n",
      " \"'Melbourne - Rest of', 'metro_id': 158, 'metro_tx': 'Melbourne', \"\n",
      " \"'region_id': 287, 'region_tx': 'Victoria', 'subTheatre_id': 2, \"\n",
      " \"'subTheatre_tx': 'Australia', 'theatre_id': 2, 'theatre_tx': 'Australia - \"\n",
      " \"NZ', 'continent_id': 4, 'continent_tx': 'Pacific', 'zone_id': 2, 'zone_tx': \"\n",
      " \"'AsiaPac', 'cbd_fg': false, 'neighborhood_id': 9388, 'neighborhood_tx': \"\n",
      " \"'Braybrook, Melbourne', 'neighborhood_display_city_name_fg': true}}\")\n",
      "Expecting property name enclosed in double quotes: line 1 column 2 (char 1)\n"
     ]
    },
    {
     "data": {
      "text/plain": [
       "0    None\n",
       "1    None\n",
       "2    None\n",
       "3    None\n",
       "4    None\n",
       "5    None\n",
       "Name: response, dtype: object"
      ]
     },
     "execution_count": 14,
     "metadata": {},
     "output_type": "execute_result"
    }
   ],
   "source": [
    "df.loc[0:5,'response'].apply(loads_catch)"
   ]
  },
  {
   "cell_type": "code",
   "execution_count": 60,
   "metadata": {},
   "outputs": [],
   "source": [
    "def create_output_df():\n",
    "    df_dict = df_head.response_json.to_dict()\n",
    "    list_of_results = []\n",
    "    for col in df_dict:\n",
    "        new_df = pd.json_normalize(df_dict[col])\n",
    "        list_of_results.append(new_df)\n",
    "    final_df = pd.concat(list_of_results)\n",
    "    return final_df"
   ]
  },
  {
   "cell_type": "code",
   "execution_count": 62,
   "metadata": {},
   "outputs": [
    {
     "data": {
      "text/html": [
       "<div>\n",
       "<style scoped>\n",
       "    .dataframe tbody tr th:only-of-type {\n",
       "        vertical-align: middle;\n",
       "    }\n",
       "\n",
       "    .dataframe tbody tr th {\n",
       "        vertical-align: top;\n",
       "    }\n",
       "\n",
       "    .dataframe thead th {\n",
       "        text-align: right;\n",
       "    }\n",
       "</style>\n",
       "<table border=\"1\" class=\"dataframe\">\n",
       "  <thead>\n",
       "    <tr style=\"text-align: right;\">\n",
       "      <th></th>\n",
       "      <th>address_components</th>\n",
       "      <th>formatted_address</th>\n",
       "      <th>partial_match</th>\n",
       "      <th>place_id</th>\n",
       "      <th>types</th>\n",
       "      <th>geometry.location.lat</th>\n",
       "      <th>geometry.location.lng</th>\n",
       "      <th>geometry.location_type</th>\n",
       "      <th>geometry.viewport.northeast.lat</th>\n",
       "      <th>geometry.viewport.northeast.lng</th>\n",
       "      <th>...</th>\n",
       "      <th>reverse_geocode.adminLevel3_id</th>\n",
       "      <th>reverse_geocode.adminLevel3_tx</th>\n",
       "      <th>reverse_geocode.adminLevel3Type_tx</th>\n",
       "      <th>reverse_geocode.adminLevel3_display_city_name_fg</th>\n",
       "      <th>reverse_geocode.indexMarket_id</th>\n",
       "      <th>reverse_geocode.cbsa_id</th>\n",
       "      <th>reverse_geocode.csa_id</th>\n",
       "      <th>reverse_geocode.neighborhood_id</th>\n",
       "      <th>reverse_geocode.neighborhood_tx</th>\n",
       "      <th>reverse_geocode.neighborhood_display_city_name_fg</th>\n",
       "    </tr>\n",
       "  </thead>\n",
       "  <tbody>\n",
       "    <tr>\n",
       "      <th>0</th>\n",
       "      <td>[{'long_name': 'Bundall Road &amp; Slatyer Avenue'...</td>\n",
       "      <td>Bundall Rd &amp; Slatyer Ave, Bundall QLD 4217, Au...</td>\n",
       "      <td>True</td>\n",
       "      <td>EjVCdW5kYWxsIFJkICYgU2xhdHllciBBdmUsIEJ1bmRhbG...</td>\n",
       "      <td>[intersection]</td>\n",
       "      <td>-27.997630</td>\n",
       "      <td>153.414117</td>\n",
       "      <td>GEOMETRIC_CENTER</td>\n",
       "      <td>-27.996281</td>\n",
       "      <td>153.415466</td>\n",
       "      <td>...</td>\n",
       "      <td>NaN</td>\n",
       "      <td>NaN</td>\n",
       "      <td>NaN</td>\n",
       "      <td>NaN</td>\n",
       "      <td>NaN</td>\n",
       "      <td>NaN</td>\n",
       "      <td>NaN</td>\n",
       "      <td>NaN</td>\n",
       "      <td>NaN</td>\n",
       "      <td>NaN</td>\n",
       "    </tr>\n",
       "    <tr>\n",
       "      <th>0</th>\n",
       "      <td>[{'long_name': 'St. Marys', 'short_name': 'St ...</td>\n",
       "      <td>St Marys, GA 31558, USA</td>\n",
       "      <td>True</td>\n",
       "      <td>ChIJiVXa-J4D5YgR_9oA5sRZda4</td>\n",
       "      <td>[locality, political]</td>\n",
       "      <td>30.747895</td>\n",
       "      <td>-81.570611</td>\n",
       "      <td>APPROXIMATE</td>\n",
       "      <td>30.844184</td>\n",
       "      <td>-81.505520</td>\n",
       "      <td>...</td>\n",
       "      <td>31602.0</td>\n",
       "      <td>St. Marys</td>\n",
       "      <td>County_Subdivision</td>\n",
       "      <td>False</td>\n",
       "      <td>32.0</td>\n",
       "      <td>86.0</td>\n",
       "      <td>70.0</td>\n",
       "      <td>NaN</td>\n",
       "      <td>NaN</td>\n",
       "      <td>NaN</td>\n",
       "    </tr>\n",
       "    <tr>\n",
       "      <th>0</th>\n",
       "      <td>[{'long_name': 'Hamilton Avenue', 'short_name'...</td>\n",
       "      <td>Hamilton Ave, Surfers Paradise QLD 4217, Austr...</td>\n",
       "      <td>NaN</td>\n",
       "      <td>EjJIYW1pbHRvbiBBdmUsIFN1cmZlcnMgUGFyYWRpc2UgUU...</td>\n",
       "      <td>[route]</td>\n",
       "      <td>-28.006737</td>\n",
       "      <td>153.429215</td>\n",
       "      <td>GEOMETRIC_CENTER</td>\n",
       "      <td>-28.005474</td>\n",
       "      <td>153.431928</td>\n",
       "      <td>...</td>\n",
       "      <td>NaN</td>\n",
       "      <td>NaN</td>\n",
       "      <td>NaN</td>\n",
       "      <td>NaN</td>\n",
       "      <td>NaN</td>\n",
       "      <td>NaN</td>\n",
       "      <td>NaN</td>\n",
       "      <td>NaN</td>\n",
       "      <td>NaN</td>\n",
       "      <td>NaN</td>\n",
       "    </tr>\n",
       "    <tr>\n",
       "      <th>0</th>\n",
       "      <td>[{'long_name': 'Logan Road', 'short_name': 'Lo...</td>\n",
       "      <td>Logan Rd, Mount Gravatt QLD 4122, Australia</td>\n",
       "      <td>NaN</td>\n",
       "      <td>EitMb2dhbiBSZCwgTW91bnQgR3JhdmF0dCBRTEQgNDEyMi...</td>\n",
       "      <td>[route]</td>\n",
       "      <td>-27.537256</td>\n",
       "      <td>153.078453</td>\n",
       "      <td>GEOMETRIC_CENTER</td>\n",
       "      <td>-27.528479</td>\n",
       "      <td>153.081776</td>\n",
       "      <td>...</td>\n",
       "      <td>NaN</td>\n",
       "      <td>NaN</td>\n",
       "      <td>NaN</td>\n",
       "      <td>NaN</td>\n",
       "      <td>NaN</td>\n",
       "      <td>NaN</td>\n",
       "      <td>NaN</td>\n",
       "      <td>NaN</td>\n",
       "      <td>NaN</td>\n",
       "      <td>NaN</td>\n",
       "    </tr>\n",
       "    <tr>\n",
       "      <th>0</th>\n",
       "      <td>[{'long_name': 'Railway Street', 'short_name':...</td>\n",
       "      <td>Railway St, Wentworthville NSW 2145, Australia</td>\n",
       "      <td>NaN</td>\n",
       "      <td>ChIJF3Mpf5SiEmsR_vq9IgBsZZ0</td>\n",
       "      <td>[route]</td>\n",
       "      <td>-33.803699</td>\n",
       "      <td>150.974037</td>\n",
       "      <td>GEOMETRIC_CENTER</td>\n",
       "      <td>-33.800599</td>\n",
       "      <td>150.975829</td>\n",
       "      <td>...</td>\n",
       "      <td>NaN</td>\n",
       "      <td>NaN</td>\n",
       "      <td>NaN</td>\n",
       "      <td>NaN</td>\n",
       "      <td>NaN</td>\n",
       "      <td>NaN</td>\n",
       "      <td>NaN</td>\n",
       "      <td>9647.0</td>\n",
       "      <td>Parramatta, Sydney</td>\n",
       "      <td>True</td>\n",
       "    </tr>\n",
       "  </tbody>\n",
       "</table>\n",
       "<p>5 rows × 73 columns</p>\n",
       "</div>"
      ],
      "text/plain": [
       "                                  address_components  \\\n",
       "0  [{'long_name': 'Bundall Road & Slatyer Avenue'...   \n",
       "0  [{'long_name': 'St. Marys', 'short_name': 'St ...   \n",
       "0  [{'long_name': 'Hamilton Avenue', 'short_name'...   \n",
       "0  [{'long_name': 'Logan Road', 'short_name': 'Lo...   \n",
       "0  [{'long_name': 'Railway Street', 'short_name':...   \n",
       "\n",
       "                                   formatted_address partial_match  \\\n",
       "0  Bundall Rd & Slatyer Ave, Bundall QLD 4217, Au...          True   \n",
       "0                            St Marys, GA 31558, USA          True   \n",
       "0  Hamilton Ave, Surfers Paradise QLD 4217, Austr...           NaN   \n",
       "0        Logan Rd, Mount Gravatt QLD 4122, Australia           NaN   \n",
       "0     Railway St, Wentworthville NSW 2145, Australia           NaN   \n",
       "\n",
       "                                            place_id                  types  \\\n",
       "0  EjVCdW5kYWxsIFJkICYgU2xhdHllciBBdmUsIEJ1bmRhbG...         [intersection]   \n",
       "0                        ChIJiVXa-J4D5YgR_9oA5sRZda4  [locality, political]   \n",
       "0  EjJIYW1pbHRvbiBBdmUsIFN1cmZlcnMgUGFyYWRpc2UgUU...                [route]   \n",
       "0  EitMb2dhbiBSZCwgTW91bnQgR3JhdmF0dCBRTEQgNDEyMi...                [route]   \n",
       "0                        ChIJF3Mpf5SiEmsR_vq9IgBsZZ0                [route]   \n",
       "\n",
       "   geometry.location.lat  geometry.location.lng geometry.location_type  \\\n",
       "0             -27.997630             153.414117       GEOMETRIC_CENTER   \n",
       "0              30.747895             -81.570611            APPROXIMATE   \n",
       "0             -28.006737             153.429215       GEOMETRIC_CENTER   \n",
       "0             -27.537256             153.078453       GEOMETRIC_CENTER   \n",
       "0             -33.803699             150.974037       GEOMETRIC_CENTER   \n",
       "\n",
       "   geometry.viewport.northeast.lat  geometry.viewport.northeast.lng  ...  \\\n",
       "0                       -27.996281                       153.415466  ...   \n",
       "0                        30.844184                       -81.505520  ...   \n",
       "0                       -28.005474                       153.431928  ...   \n",
       "0                       -27.528479                       153.081776  ...   \n",
       "0                       -33.800599                       150.975829  ...   \n",
       "\n",
       "   reverse_geocode.adminLevel3_id  reverse_geocode.adminLevel3_tx  \\\n",
       "0                             NaN                             NaN   \n",
       "0                         31602.0                       St. Marys   \n",
       "0                             NaN                             NaN   \n",
       "0                             NaN                             NaN   \n",
       "0                             NaN                             NaN   \n",
       "\n",
       "   reverse_geocode.adminLevel3Type_tx  \\\n",
       "0                                 NaN   \n",
       "0                  County_Subdivision   \n",
       "0                                 NaN   \n",
       "0                                 NaN   \n",
       "0                                 NaN   \n",
       "\n",
       "  reverse_geocode.adminLevel3_display_city_name_fg  \\\n",
       "0                                              NaN   \n",
       "0                                            False   \n",
       "0                                              NaN   \n",
       "0                                              NaN   \n",
       "0                                              NaN   \n",
       "\n",
       "  reverse_geocode.indexMarket_id reverse_geocode.cbsa_id  \\\n",
       "0                            NaN                     NaN   \n",
       "0                           32.0                    86.0   \n",
       "0                            NaN                     NaN   \n",
       "0                            NaN                     NaN   \n",
       "0                            NaN                     NaN   \n",
       "\n",
       "   reverse_geocode.csa_id  reverse_geocode.neighborhood_id  \\\n",
       "0                     NaN                              NaN   \n",
       "0                    70.0                              NaN   \n",
       "0                     NaN                              NaN   \n",
       "0                     NaN                              NaN   \n",
       "0                     NaN                           9647.0   \n",
       "\n",
       "   reverse_geocode.neighborhood_tx  \\\n",
       "0                              NaN   \n",
       "0                              NaN   \n",
       "0                              NaN   \n",
       "0                              NaN   \n",
       "0               Parramatta, Sydney   \n",
       "\n",
       "  reverse_geocode.neighborhood_display_city_name_fg  \n",
       "0                                               NaN  \n",
       "0                                               NaN  \n",
       "0                                               NaN  \n",
       "0                                               NaN  \n",
       "0                                              True  \n",
       "\n",
       "[5 rows x 73 columns]"
      ]
     },
     "execution_count": 62,
     "metadata": {},
     "output_type": "execute_result"
    }
   ],
   "source": [
    "newDF = create_output_df()\n",
    "newDF.head()"
   ]
  },
  {
   "cell_type": "code",
   "execution_count": null,
   "metadata": {},
   "outputs": [],
   "source": [
    "s2 = df_head.to_dict()"
   ]
  },
  {
   "cell_type": "code",
   "execution_count": 35,
   "metadata": {},
   "outputs": [],
   "source": [
    "sample_dict = json.loads(df_head.response[2])"
   ]
  },
  {
   "cell_type": "code",
   "execution_count": 40,
   "metadata": {},
   "outputs": [
    {
     "ename": "KeyError",
     "evalue": "'0'",
     "output_type": "error",
     "traceback": [
      "\u001b[0;31m---------------------------------------------------------------------------\u001b[0m",
      "\u001b[0;31mKeyError\u001b[0m                                  Traceback (most recent call last)",
      "\u001b[0;32m<ipython-input-40-8e0479f4789d>\u001b[0m in \u001b[0;36m<module>\u001b[0;34m\u001b[0m\n\u001b[0;32m----> 1\u001b[0;31m \u001b[0mpd\u001b[0m\u001b[0;34m.\u001b[0m\u001b[0mjson_normalize\u001b[0m\u001b[0;34m(\u001b[0m\u001b[0ms2\u001b[0m\u001b[0;34m)\u001b[0m\u001b[0;34m\u001b[0m\u001b[0;34m\u001b[0m\u001b[0m\n\u001b[0m",
      "\u001b[0;32m~/.pyenv/versions/3.7.9/envs/ds/lib/python3.7/site-packages/pandas/io/json/_normalize.py\u001b[0m in \u001b[0;36m_json_normalize\u001b[0;34m(data, record_path, meta, meta_prefix, record_prefix, errors, sep, max_level)\u001b[0m\n\u001b[1;32m    276\u001b[0m             \u001b[0;31m# TODO: handle record value which are lists, at least error\u001b[0m\u001b[0;34m\u001b[0m\u001b[0;34m\u001b[0m\u001b[0;34m\u001b[0m\u001b[0m\n\u001b[1;32m    277\u001b[0m             \u001b[0;31m#       reasonably\u001b[0m\u001b[0;34m\u001b[0m\u001b[0;34m\u001b[0m\u001b[0;34m\u001b[0m\u001b[0m\n\u001b[0;32m--> 278\u001b[0;31m             \u001b[0mdata\u001b[0m \u001b[0;34m=\u001b[0m \u001b[0mnested_to_record\u001b[0m\u001b[0;34m(\u001b[0m\u001b[0mdata\u001b[0m\u001b[0;34m,\u001b[0m \u001b[0msep\u001b[0m\u001b[0;34m=\u001b[0m\u001b[0msep\u001b[0m\u001b[0;34m,\u001b[0m \u001b[0mmax_level\u001b[0m\u001b[0;34m=\u001b[0m\u001b[0mmax_level\u001b[0m\u001b[0;34m)\u001b[0m\u001b[0;34m\u001b[0m\u001b[0;34m\u001b[0m\u001b[0m\n\u001b[0m\u001b[1;32m    279\u001b[0m         \u001b[0;32mreturn\u001b[0m \u001b[0mDataFrame\u001b[0m\u001b[0;34m(\u001b[0m\u001b[0mdata\u001b[0m\u001b[0;34m)\u001b[0m\u001b[0;34m\u001b[0m\u001b[0;34m\u001b[0m\u001b[0m\n\u001b[1;32m    280\u001b[0m     \u001b[0;32melif\u001b[0m \u001b[0;32mnot\u001b[0m \u001b[0misinstance\u001b[0m\u001b[0;34m(\u001b[0m\u001b[0mrecord_path\u001b[0m\u001b[0;34m,\u001b[0m \u001b[0mlist\u001b[0m\u001b[0;34m)\u001b[0m\u001b[0;34m:\u001b[0m\u001b[0;34m\u001b[0m\u001b[0;34m\u001b[0m\u001b[0m\n",
      "\u001b[0;32m~/.pyenv/versions/3.7.9/envs/ds/lib/python3.7/site-packages/pandas/io/json/_normalize.py\u001b[0m in \u001b[0;36mnested_to_record\u001b[0;34m(ds, prefix, sep, level, max_level)\u001b[0m\n\u001b[1;32m    102\u001b[0m             \u001b[0;32melse\u001b[0m\u001b[0;34m:\u001b[0m\u001b[0;34m\u001b[0m\u001b[0;34m\u001b[0m\u001b[0m\n\u001b[1;32m    103\u001b[0m                 \u001b[0mv\u001b[0m \u001b[0;34m=\u001b[0m \u001b[0mnew_d\u001b[0m\u001b[0;34m.\u001b[0m\u001b[0mpop\u001b[0m\u001b[0;34m(\u001b[0m\u001b[0mk\u001b[0m\u001b[0;34m)\u001b[0m\u001b[0;34m\u001b[0m\u001b[0;34m\u001b[0m\u001b[0m\n\u001b[0;32m--> 104\u001b[0;31m                 \u001b[0mnew_d\u001b[0m\u001b[0;34m.\u001b[0m\u001b[0mupdate\u001b[0m\u001b[0;34m(\u001b[0m\u001b[0mnested_to_record\u001b[0m\u001b[0;34m(\u001b[0m\u001b[0mv\u001b[0m\u001b[0;34m,\u001b[0m \u001b[0mnewkey\u001b[0m\u001b[0;34m,\u001b[0m \u001b[0msep\u001b[0m\u001b[0;34m,\u001b[0m \u001b[0mlevel\u001b[0m \u001b[0;34m+\u001b[0m \u001b[0;36m1\u001b[0m\u001b[0;34m,\u001b[0m \u001b[0mmax_level\u001b[0m\u001b[0;34m)\u001b[0m\u001b[0;34m)\u001b[0m\u001b[0;34m\u001b[0m\u001b[0;34m\u001b[0m\u001b[0m\n\u001b[0m\u001b[1;32m    105\u001b[0m         \u001b[0mnew_ds\u001b[0m\u001b[0;34m.\u001b[0m\u001b[0mappend\u001b[0m\u001b[0;34m(\u001b[0m\u001b[0mnew_d\u001b[0m\u001b[0;34m)\u001b[0m\u001b[0;34m\u001b[0m\u001b[0;34m\u001b[0m\u001b[0m\n\u001b[1;32m    106\u001b[0m \u001b[0;34m\u001b[0m\u001b[0m\n",
      "\u001b[0;32m~/.pyenv/versions/3.7.9/envs/ds/lib/python3.7/site-packages/pandas/io/json/_normalize.py\u001b[0m in \u001b[0;36mnested_to_record\u001b[0;34m(ds, prefix, sep, level, max_level)\u001b[0m\n\u001b[1;32m     97\u001b[0m             ):\n\u001b[1;32m     98\u001b[0m                 \u001b[0;32mif\u001b[0m \u001b[0mlevel\u001b[0m \u001b[0;34m!=\u001b[0m \u001b[0;36m0\u001b[0m\u001b[0;34m:\u001b[0m  \u001b[0;31m# so we skip copying for top level, common case\u001b[0m\u001b[0;34m\u001b[0m\u001b[0;34m\u001b[0m\u001b[0m\n\u001b[0;32m---> 99\u001b[0;31m                     \u001b[0mv\u001b[0m \u001b[0;34m=\u001b[0m \u001b[0mnew_d\u001b[0m\u001b[0;34m.\u001b[0m\u001b[0mpop\u001b[0m\u001b[0;34m(\u001b[0m\u001b[0mk\u001b[0m\u001b[0;34m)\u001b[0m\u001b[0;34m\u001b[0m\u001b[0;34m\u001b[0m\u001b[0m\n\u001b[0m\u001b[1;32m    100\u001b[0m                     \u001b[0mnew_d\u001b[0m\u001b[0;34m[\u001b[0m\u001b[0mnewkey\u001b[0m\u001b[0;34m]\u001b[0m \u001b[0;34m=\u001b[0m \u001b[0mv\u001b[0m\u001b[0;34m\u001b[0m\u001b[0;34m\u001b[0m\u001b[0m\n\u001b[1;32m    101\u001b[0m                 \u001b[0;32mcontinue\u001b[0m\u001b[0;34m\u001b[0m\u001b[0;34m\u001b[0m\u001b[0m\n",
      "\u001b[0;31mKeyError\u001b[0m: '0'"
     ]
    }
   ],
   "source": [
    "pd.json_normalize(s2)"
   ]
  },
  {
   "cell_type": "code",
   "execution_count": 21,
   "metadata": {},
   "outputs": [
    {
     "ename": "NameError",
     "evalue": "name 'df1' is not defined",
     "output_type": "error",
     "traceback": [
      "\u001b[0;31m---------------------------------------------------------------------------\u001b[0m",
      "\u001b[0;31mNameError\u001b[0m                                 Traceback (most recent call last)",
      "\u001b[0;32m<ipython-input-21-71fd5dc002d4>\u001b[0m in \u001b[0;36m<module>\u001b[0;34m\u001b[0m\n\u001b[0;32m----> 1\u001b[0;31m \u001b[0mfinal\u001b[0m \u001b[0;34m=\u001b[0m \u001b[0mpd\u001b[0m\u001b[0;34m.\u001b[0m\u001b[0mDataFrame\u001b[0m\u001b[0;34m.\u001b[0m\u001b[0mfrom_dict\u001b[0m\u001b[0;34m(\u001b[0m\u001b[0mpd\u001b[0m\u001b[0;34m.\u001b[0m\u001b[0mjson_normalize\u001b[0m\u001b[0;34m(\u001b[0m\u001b[0mdf1\u001b[0m\u001b[0;34m[\u001b[0m\u001b[0;34m'response'\u001b[0m\u001b[0;34m]\u001b[0m\u001b[0;34m)\u001b[0m \u001b[0;34m,\u001b[0m\u001b[0morient\u001b[0m\u001b[0;34m=\u001b[0m\u001b[0;34m'columns'\u001b[0m\u001b[0;34m)\u001b[0m\u001b[0;34m\u001b[0m\u001b[0;34m\u001b[0m\u001b[0m\n\u001b[0m",
      "\u001b[0;31mNameError\u001b[0m: name 'df1' is not defined"
     ]
    }
   ],
   "source": [
    "final = pd.DataFrame.from_dict(pd.json_normalize(df1['response']) ,orient='columns')\n"
   ]
  },
  {
   "cell_type": "code",
   "execution_count": 448,
   "metadata": {},
   "outputs": [
    {
     "data": {
      "text/plain": [
       "{'address_components': [{'long_name': 'Bundall Road & Slatyer Avenue',\n",
       "   'short_name': 'Bundall Rd & Slatyer Ave',\n",
       "   'types': ['intersection']},\n",
       "  {'long_name': 'Bundall',\n",
       "   'short_name': 'Bundall',\n",
       "   'types': ['locality', 'political']},\n",
       "  {'long_name': 'City of Gold Coast',\n",
       "   'short_name': 'Gold Coast',\n",
       "   'types': ['administrative_area_level_2', 'political']},\n",
       "  {'long_name': 'Queensland',\n",
       "   'short_name': 'QLD',\n",
       "   'types': ['administrative_area_level_1', 'political']},\n",
       "  {'long_name': 'Australia',\n",
       "   'short_name': 'AU',\n",
       "   'types': ['country', 'political']},\n",
       "  {'long_name': '4217', 'short_name': '4217', 'types': ['postal_code']}],\n",
       " 'formatted_address': 'Bundall Rd & Slatyer Ave, Bundall QLD 4217, Australia',\n",
       " 'geometry': {'location': {'lat': -27.9976302, 'lng': 153.4141172},\n",
       "  'location_type': 'GEOMETRIC_CENTER',\n",
       "  'viewport': {'northeast': {'lat': -27.9962812197085,\n",
       "    'lng': 153.4154661802915},\n",
       "   'southwest': {'lat': -27.9989791802915, 'lng': 153.4127682197085}}},\n",
       " 'partial_match': True,\n",
       " 'place_id': 'EjVCdW5kYWxsIFJkICYgU2xhdHllciBBdmUsIEJ1bmRhbGwgUUxEIDQyMTcsIEF1c3RyYWxpYSJmImQKFAoSCeXEHjVABZFrEWe7h22UE8tZEhQKEgnlxB41QAWRaxFnu4dtlBPLWRoUChIJL6kK0T0FkWsR6nklFR-GhrUaFAoSCSPmlM5HBZFrEQEWnceuQwCyIgoNkuZP7xX0InFb',\n",
       " 'types': ['intersection'],\n",
       " 'rca_extended_properties': {'geocode': {'quality_id': 5,\n",
       "   'quality_tx': 'Postal Code'},\n",
       "  'distanceInMeters': 'none',\n",
       "  'displayCity_tx': 'Gold Coast',\n",
       "  'displayCityNameOrigin_id': 8,\n",
       "  'searchParcels': False},\n",
       " 'reverse_geocode': {'adminLevel2_id': 12489,\n",
       "  'adminLevel2_tx': 'Gold Coast (C)',\n",
       "  'adminLevel2Type_tx': 'Local_Gov_Area',\n",
       "  'adminLevel2_display_city_name_fg': False,\n",
       "  'adminLevel1_id': 1504,\n",
       "  'adminLevel1_tx': 'Queensland',\n",
       "  'adminLevel1Type_tx': 'States',\n",
       "  'adminLevel1_display_city_name_fg': False,\n",
       "  'adminLevel0_id': 13,\n",
       "  'adminLevel0_tx': 'Australia',\n",
       "  'adminLevel0_display_city_name_fg': False,\n",
       "  'postalCode_id': 39319,\n",
       "  'postalCode_tx': '4217',\n",
       "  'city_id': 166830,\n",
       "  'city_tx': 'Gold Coast',\n",
       "  'city_display_city_name_fg': True,\n",
       "  'subMarket_id': 1460,\n",
       "  'subMarket_tx': 'Gold Coast',\n",
       "  'market_id': 611,\n",
       "  'market_tx': 'Gold Coast',\n",
       "  'metro_id': 94,\n",
       "  'metro_tx': 'Gold Coast',\n",
       "  'region_id': 288,\n",
       "  'region_tx': 'Queensland',\n",
       "  'subTheatre_id': 2,\n",
       "  'subTheatre_tx': 'Australia',\n",
       "  'theatre_id': 2,\n",
       "  'theatre_tx': 'Australia - NZ',\n",
       "  'continent_id': 4,\n",
       "  'continent_tx': 'Pacific',\n",
       "  'zone_id': 2,\n",
       "  'zone_tx': 'AsiaPac',\n",
       "  'cbd_fg': False}}"
      ]
     },
     "execution_count": 448,
     "metadata": {},
     "output_type": "execute_result"
    }
   ],
   "source": [
    "json.loads(df['response'][0])"
   ]
  },
  {
   "cell_type": "code",
   "execution_count": 449,
   "metadata": {},
   "outputs": [
    {
     "data": {
      "text/plain": [
       "'{\"address_components\": [{\"long_name\": \"Bundall Road & Slatyer Avenue\", \"short_name\": \"Bundall Rd & Slatyer Ave\", \"types\": [\"intersection\"]}, {\"long_name\": \"Bundall\", \"short_name\": \"Bundall\", \"types\": [\"locality\", \"political\"]}, {\"long_name\": \"City of Gold Coast\", \"short_name\": \"Gold Coast\", \"types\": [\"administrative_area_level_2\", \"political\"]}, {\"long_name\": \"Queensland\", \"short_name\": \"QLD\", \"types\": [\"administrative_area_level_1\", \"political\"]}, {\"long_name\": \"Australia\", \"short_name\": \"AU\", \"types\": [\"country\", \"political\"]}, {\"long_name\": \"4217\", \"short_name\": \"4217\", \"types\": [\"postal_code\"]}], \"formatted_address\": \"Bundall Rd & Slatyer Ave, Bundall QLD 4217, Australia\", \"geometry\": {\"location\": {\"lat\": -27.9976302, \"lng\": 153.4141172}, \"location_type\": \"GEOMETRIC_CENTER\", \"viewport\": {\"northeast\": {\"lat\": -27.9962812197085, \"lng\": 153.4154661802915}, \"southwest\": {\"lat\": -27.9989791802915, \"lng\": 153.4127682197085}}}, \"partial_match\": true, \"place_id\": \"EjVCdW5kYWxsIFJkICYgU2xhdHllciBBdmUsIEJ1bmRhbGwgUUxEIDQyMTcsIEF1c3RyYWxpYSJmImQKFAoSCeXEHjVABZFrEWe7h22UE8tZEhQKEgnlxB41QAWRaxFnu4dtlBPLWRoUChIJL6kK0T0FkWsR6nklFR-GhrUaFAoSCSPmlM5HBZFrEQEWnceuQwCyIgoNkuZP7xX0InFb\", \"types\": [\"intersection\"], \"rca_extended_properties\": {\"geocode\": {\"quality_id\": 5, \"quality_tx\": \"Postal Code\"}, \"distanceInMeters\": \"none\", \"displayCity_tx\": \"Gold Coast\", \"displayCityNameOrigin_id\": 8, \"searchParcels\": false}, \"reverse_geocode\": {\"adminLevel2_id\": 12489, \"adminLevel2_tx\": \"Gold Coast (C)\", \"adminLevel2Type_tx\": \"Local_Gov_Area\", \"adminLevel2_display_city_name_fg\": false, \"adminLevel1_id\": 1504, \"adminLevel1_tx\": \"Queensland\", \"adminLevel1Type_tx\": \"States\", \"adminLevel1_display_city_name_fg\": false, \"adminLevel0_id\": 13, \"adminLevel0_tx\": \"Australia\", \"adminLevel0_display_city_name_fg\": false, \"postalCode_id\": 39319, \"postalCode_tx\": \"4217\", \"city_id\": 166830, \"city_tx\": \"Gold Coast\", \"city_display_city_name_fg\": true, \"subMarket_id\": 1460, \"subMarket_tx\": \"Gold Coast\", \"market_id\": 611, \"market_tx\": \"Gold Coast\", \"metro_id\": 94, \"metro_tx\": \"Gold Coast\", \"region_id\": 288, \"region_tx\": \"Queensland\", \"subTheatre_id\": 2, \"subTheatre_tx\": \"Australia\", \"theatre_id\": 2, \"theatre_tx\": \"Australia - NZ\", \"continent_id\": 4, \"continent_tx\": \"Pacific\", \"zone_id\": 2, \"zone_tx\": \"AsiaPac\", \"cbd_fg\": false}}'"
      ]
     },
     "execution_count": 449,
     "metadata": {},
     "output_type": "execute_result"
    }
   ],
   "source": [
    "df['response'][0]"
   ]
  },
  {
   "cell_type": "code",
   "execution_count": null,
   "metadata": {},
   "outputs": [],
   "source": [
    "for address in list_of_address:\n",
    "    geocoded_response = geocode(address)\n",
    "    save_to_file(geocode_response)\n",
    "    \n",
    "save_to_file(key: str, response: Dict) -> None:\n",
    "    output = {key: response}\n",
    "    with file(FILE_NAME, 'w+') as f:\n",
    "        f.write(output)\n",
    "    "
   ]
  }
 ],
 "metadata": {
  "kernelspec": {
   "display_name": "Python 3",
   "language": "python",
   "name": "python3"
  },
  "language_info": {
   "codemirror_mode": {
    "name": "ipython",
    "version": 3
   },
   "file_extension": ".py",
   "mimetype": "text/x-python",
   "name": "python",
   "nbconvert_exporter": "python",
   "pygments_lexer": "ipython3",
   "version": "3.7.9"
  }
 },
 "nbformat": 4,
 "nbformat_minor": 2
}
